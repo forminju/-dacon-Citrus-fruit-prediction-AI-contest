{
  "cells": [
    {
      "cell_type": "markdown",
      "metadata": {
        "id": "CCo_ILGlkXQK"
      },
      "source": [
        "# Colab"
      ],
      "id": "CCo_ILGlkXQK"
    },
    {
      "cell_type": "code",
      "execution_count": 1,
      "metadata": {
        "colab": {
          "base_uri": "https://localhost:8080/"
        },
        "id": "WFAjUU2lkWg4",
        "outputId": "c375d5b1-a9c6-4c34-c133-c455bcfb309f"
      },
      "outputs": [
        {
          "output_type": "stream",
          "name": "stdout",
          "text": [
            "Mounted at /content/drive\n"
          ]
        }
      ],
      "source": [
        "from google.colab import drive\n",
        "drive.mount('/content/drive')"
      ],
      "id": "WFAjUU2lkWg4"
    },
    {
      "cell_type": "code",
      "source": [
        "# 기본 경로 (압축 해제 파일을 저장할 경로)\n",
        "%cd /content/drive/MyDrive/Colab Notebooks/데이콘/2023포디블록"
      ],
      "metadata": {
        "colab": {
          "base_uri": "https://localhost:8080/"
        },
        "id": "52wjlTQEeRrG",
        "outputId": "dfc07022-c995-45ce-d76a-eb82f6910d77"
      },
      "id": "52wjlTQEeRrG",
      "execution_count": 2,
      "outputs": [
        {
          "output_type": "stream",
          "name": "stdout",
          "text": [
            "/content/drive/MyDrive/Colab Notebooks/데이콘/2023포디블록\n"
          ]
        }
      ]
    },
    {
      "cell_type": "code",
      "execution_count": null,
      "metadata": {
        "id": "29u5lVD_kSra"
      },
      "outputs": [],
      "source": [
        "# # 압축 해제 필요하면 ctrl+/ 로 주석 지우기\n",
        "# from google.colab import output\n",
        "\n",
        "# # 기본 경로 (압축 해제 파일을 저장할 경로)\n",
        "# %cd /content/drive/MyDrive/Colab Notebooks/데이콘/2022포디블록\n",
        "# # 압축 해제\n",
        "# !unzip 'open.zip'\n",
        "# # 출력 결과 지우기\n",
        "# output.clear()"
      ],
      "id": "29u5lVD_kSra"
    },
    {
      "cell_type": "markdown",
      "metadata": {
        "id": "a2bcba5f-002e-4f49-9622-ada6117faf0a"
      },
      "source": [
        "## Import"
      ],
      "id": "a2bcba5f-002e-4f49-9622-ada6117faf0a"
    },
    {
      "cell_type": "code",
      "execution_count": 3,
      "metadata": {
        "id": "2b0d9b68-7102-4eca-9543-3b9b8acafc6e"
      },
      "outputs": [],
      "source": [
        "import random\n",
        "import pandas as pd\n",
        "import numpy as np\n",
        "import os\n",
        "import cv2\n",
        "\n",
        "import torch\n",
        "import torch.nn as nn\n",
        "import torch.optim as optim\n",
        "import torch.nn.functional as F\n",
        "from torch.utils.data import Dataset, DataLoader\n",
        "\n",
        "import albumentations as A\n",
        "from albumentations.pytorch.transforms import ToTensorV2\n",
        "import torchvision.models as models\n",
        "\n",
        "from tqdm.auto import tqdm\n",
        "from sklearn.metrics import accuracy_score\n",
        "\n",
        "import warnings\n",
        "warnings.filterwarnings(action='ignore') "
      ],
      "id": "2b0d9b68-7102-4eca-9543-3b9b8acafc6e"
    },
    {
      "cell_type": "code",
      "execution_count": 4,
      "metadata": {
        "id": "d13862e3-bb27-47af-9b58-a9fbf804df71"
      },
      "outputs": [],
      "source": [
        "device = torch.device('cuda') if torch.cuda.is_available() else torch.device('cpu')"
      ],
      "id": "d13862e3-bb27-47af-9b58-a9fbf804df71"
    },
    {
      "cell_type": "markdown",
      "metadata": {
        "id": "fc7df3f2-62d0-4499-a46e-47d01699def0"
      },
      "source": [
        "## Hyperparameter Setting"
      ],
      "id": "fc7df3f2-62d0-4499-a46e-47d01699def0"
    },
    {
      "cell_type": "code",
      "execution_count": 5,
      "metadata": {
        "id": "c3367399-9798-4e38-967b-fd2320b9a2b2"
      },
      "outputs": [],
      "source": [
        "CFG = {\n",
        "    'IMG_SIZE':224, # Efficientnet B0 input size=224\n",
        "    'EPOCHS':5,\n",
        "    'LEARNING_RATE':3e-4,\n",
        "    'BATCH_SIZE':128,\n",
        "    'SEED':41\n",
        "}"
      ],
      "id": "c3367399-9798-4e38-967b-fd2320b9a2b2"
    },
    {
      "cell_type": "markdown",
      "metadata": {
        "id": "4254e860-ff82-43ba-bfa3-fcee4eb3ddbd"
      },
      "source": [
        "## Fixed RandomSeed"
      ],
      "id": "4254e860-ff82-43ba-bfa3-fcee4eb3ddbd"
    },
    {
      "cell_type": "code",
      "execution_count": 6,
      "metadata": {
        "id": "101a714b-71b6-4475-a4ce-fa5f98bc2731"
      },
      "outputs": [],
      "source": [
        "# 토치\n",
        "def seed_everything(seed):\n",
        "    random.seed(seed) # transform에서 python의 random 사용하기 때문\n",
        "    os.environ['PYTHONHASHSEED'] = str(seed)\n",
        "    np.random.seed(seed) # 넘파이\n",
        "    torch.manual_seed(seed) # torch.~ 시드 고정\n",
        "    torch.cuda.manual_seed(seed) # type: ignore\n",
        "    torch.backends.cudnn.deterministic = True # type: ignore\n",
        "    torch.backends.cudnn.benchmark = True # type: ignore\n",
        "\n",
        "seed_everything(CFG['SEED']) # Seed 고정"
      ],
      "id": "101a714b-71b6-4475-a4ce-fa5f98bc2731"
    },
    {
      "cell_type": "code",
      "execution_count": 7,
      "metadata": {
        "id": "U_czVqi9sLhQ"
      },
      "outputs": [],
      "source": [
        "# # 텐서플로\n",
        "# def seed_everything(seed):\n",
        "#     random.seed(seed)\n",
        "#     np.random.seed(seed)\n",
        "#     os.environ[\"PYTHONHASHSEED\"] = str(seed)\n",
        "#     tf.random.set_seed(seed) # global seed\n",
        "\n",
        "# seed_everything(CFG['SEED']) # Seed 고정"
      ],
      "id": "U_czVqi9sLhQ"
    },
    {
      "cell_type": "markdown",
      "metadata": {
        "id": "05a4172e-5791-446f-9616-35c09d8bf25a"
      },
      "source": [
        "## Data Load"
      ],
      "id": "05a4172e-5791-446f-9616-35c09d8bf25a"
    },
    {
      "cell_type": "code",
      "execution_count": 8,
      "metadata": {
        "id": "a62c78cd-4f40-4e98-b8a6-1b6f1d906b4d"
      },
      "outputs": [],
      "source": [
        "df = pd.read_csv('train.csv')"
      ],
      "id": "a62c78cd-4f40-4e98-b8a6-1b6f1d906b4d"
    },
    {
      "cell_type": "code",
      "execution_count": 9,
      "metadata": {
        "colab": {
          "base_uri": "https://localhost:8080/",
          "height": 206
        },
        "id": "EVmknjl1o7CB",
        "outputId": "cc645c13-e1aa-4c8c-9f98-f41db7511f18"
      },
      "outputs": [
        {
          "output_type": "execute_result",
          "data": {
            "text/plain": [
              "            id                 img_path  A  B  C  D  E  F  G  H  I  J\n",
              "0  TRAIN_00000  ./train/TRAIN_00000.jpg  1  0  0  0  0  0  0  0  0  0\n",
              "1  TRAIN_00001  ./train/TRAIN_00001.jpg  1  0  0  0  0  0  0  0  0  0\n",
              "2  TRAIN_00002  ./train/TRAIN_00002.jpg  1  0  0  0  0  0  0  0  0  0\n",
              "3  TRAIN_00003  ./train/TRAIN_00003.jpg  1  0  0  0  0  0  0  0  0  0\n",
              "4  TRAIN_00004  ./train/TRAIN_00004.jpg  1  0  0  0  0  0  0  0  0  0"
            ],
            "text/html": [
              "\n",
              "  <div id=\"df-777ffc2b-4f18-419a-9d5b-68efa39b7ff6\">\n",
              "    <div class=\"colab-df-container\">\n",
              "      <div>\n",
              "<style scoped>\n",
              "    .dataframe tbody tr th:only-of-type {\n",
              "        vertical-align: middle;\n",
              "    }\n",
              "\n",
              "    .dataframe tbody tr th {\n",
              "        vertical-align: top;\n",
              "    }\n",
              "\n",
              "    .dataframe thead th {\n",
              "        text-align: right;\n",
              "    }\n",
              "</style>\n",
              "<table border=\"1\" class=\"dataframe\">\n",
              "  <thead>\n",
              "    <tr style=\"text-align: right;\">\n",
              "      <th></th>\n",
              "      <th>id</th>\n",
              "      <th>img_path</th>\n",
              "      <th>A</th>\n",
              "      <th>B</th>\n",
              "      <th>C</th>\n",
              "      <th>D</th>\n",
              "      <th>E</th>\n",
              "      <th>F</th>\n",
              "      <th>G</th>\n",
              "      <th>H</th>\n",
              "      <th>I</th>\n",
              "      <th>J</th>\n",
              "    </tr>\n",
              "  </thead>\n",
              "  <tbody>\n",
              "    <tr>\n",
              "      <th>0</th>\n",
              "      <td>TRAIN_00000</td>\n",
              "      <td>./train/TRAIN_00000.jpg</td>\n",
              "      <td>1</td>\n",
              "      <td>0</td>\n",
              "      <td>0</td>\n",
              "      <td>0</td>\n",
              "      <td>0</td>\n",
              "      <td>0</td>\n",
              "      <td>0</td>\n",
              "      <td>0</td>\n",
              "      <td>0</td>\n",
              "      <td>0</td>\n",
              "    </tr>\n",
              "    <tr>\n",
              "      <th>1</th>\n",
              "      <td>TRAIN_00001</td>\n",
              "      <td>./train/TRAIN_00001.jpg</td>\n",
              "      <td>1</td>\n",
              "      <td>0</td>\n",
              "      <td>0</td>\n",
              "      <td>0</td>\n",
              "      <td>0</td>\n",
              "      <td>0</td>\n",
              "      <td>0</td>\n",
              "      <td>0</td>\n",
              "      <td>0</td>\n",
              "      <td>0</td>\n",
              "    </tr>\n",
              "    <tr>\n",
              "      <th>2</th>\n",
              "      <td>TRAIN_00002</td>\n",
              "      <td>./train/TRAIN_00002.jpg</td>\n",
              "      <td>1</td>\n",
              "      <td>0</td>\n",
              "      <td>0</td>\n",
              "      <td>0</td>\n",
              "      <td>0</td>\n",
              "      <td>0</td>\n",
              "      <td>0</td>\n",
              "      <td>0</td>\n",
              "      <td>0</td>\n",
              "      <td>0</td>\n",
              "    </tr>\n",
              "    <tr>\n",
              "      <th>3</th>\n",
              "      <td>TRAIN_00003</td>\n",
              "      <td>./train/TRAIN_00003.jpg</td>\n",
              "      <td>1</td>\n",
              "      <td>0</td>\n",
              "      <td>0</td>\n",
              "      <td>0</td>\n",
              "      <td>0</td>\n",
              "      <td>0</td>\n",
              "      <td>0</td>\n",
              "      <td>0</td>\n",
              "      <td>0</td>\n",
              "      <td>0</td>\n",
              "    </tr>\n",
              "    <tr>\n",
              "      <th>4</th>\n",
              "      <td>TRAIN_00004</td>\n",
              "      <td>./train/TRAIN_00004.jpg</td>\n",
              "      <td>1</td>\n",
              "      <td>0</td>\n",
              "      <td>0</td>\n",
              "      <td>0</td>\n",
              "      <td>0</td>\n",
              "      <td>0</td>\n",
              "      <td>0</td>\n",
              "      <td>0</td>\n",
              "      <td>0</td>\n",
              "      <td>0</td>\n",
              "    </tr>\n",
              "  </tbody>\n",
              "</table>\n",
              "</div>\n",
              "      <button class=\"colab-df-convert\" onclick=\"convertToInteractive('df-777ffc2b-4f18-419a-9d5b-68efa39b7ff6')\"\n",
              "              title=\"Convert this dataframe to an interactive table.\"\n",
              "              style=\"display:none;\">\n",
              "        \n",
              "  <svg xmlns=\"http://www.w3.org/2000/svg\" height=\"24px\"viewBox=\"0 0 24 24\"\n",
              "       width=\"24px\">\n",
              "    <path d=\"M0 0h24v24H0V0z\" fill=\"none\"/>\n",
              "    <path d=\"M18.56 5.44l.94 2.06.94-2.06 2.06-.94-2.06-.94-.94-2.06-.94 2.06-2.06.94zm-11 1L8.5 8.5l.94-2.06 2.06-.94-2.06-.94L8.5 2.5l-.94 2.06-2.06.94zm10 10l.94 2.06.94-2.06 2.06-.94-2.06-.94-.94-2.06-.94 2.06-2.06.94z\"/><path d=\"M17.41 7.96l-1.37-1.37c-.4-.4-.92-.59-1.43-.59-.52 0-1.04.2-1.43.59L10.3 9.45l-7.72 7.72c-.78.78-.78 2.05 0 2.83L4 21.41c.39.39.9.59 1.41.59.51 0 1.02-.2 1.41-.59l7.78-7.78 2.81-2.81c.8-.78.8-2.07 0-2.86zM5.41 20L4 18.59l7.72-7.72 1.47 1.35L5.41 20z\"/>\n",
              "  </svg>\n",
              "      </button>\n",
              "      \n",
              "  <style>\n",
              "    .colab-df-container {\n",
              "      display:flex;\n",
              "      flex-wrap:wrap;\n",
              "      gap: 12px;\n",
              "    }\n",
              "\n",
              "    .colab-df-convert {\n",
              "      background-color: #E8F0FE;\n",
              "      border: none;\n",
              "      border-radius: 50%;\n",
              "      cursor: pointer;\n",
              "      display: none;\n",
              "      fill: #1967D2;\n",
              "      height: 32px;\n",
              "      padding: 0 0 0 0;\n",
              "      width: 32px;\n",
              "    }\n",
              "\n",
              "    .colab-df-convert:hover {\n",
              "      background-color: #E2EBFA;\n",
              "      box-shadow: 0px 1px 2px rgba(60, 64, 67, 0.3), 0px 1px 3px 1px rgba(60, 64, 67, 0.15);\n",
              "      fill: #174EA6;\n",
              "    }\n",
              "\n",
              "    [theme=dark] .colab-df-convert {\n",
              "      background-color: #3B4455;\n",
              "      fill: #D2E3FC;\n",
              "    }\n",
              "\n",
              "    [theme=dark] .colab-df-convert:hover {\n",
              "      background-color: #434B5C;\n",
              "      box-shadow: 0px 1px 3px 1px rgba(0, 0, 0, 0.15);\n",
              "      filter: drop-shadow(0px 1px 2px rgba(0, 0, 0, 0.3));\n",
              "      fill: #FFFFFF;\n",
              "    }\n",
              "  </style>\n",
              "\n",
              "      <script>\n",
              "        const buttonEl =\n",
              "          document.querySelector('#df-777ffc2b-4f18-419a-9d5b-68efa39b7ff6 button.colab-df-convert');\n",
              "        buttonEl.style.display =\n",
              "          google.colab.kernel.accessAllowed ? 'block' : 'none';\n",
              "\n",
              "        async function convertToInteractive(key) {\n",
              "          const element = document.querySelector('#df-777ffc2b-4f18-419a-9d5b-68efa39b7ff6');\n",
              "          const dataTable =\n",
              "            await google.colab.kernel.invokeFunction('convertToInteractive',\n",
              "                                                     [key], {});\n",
              "          if (!dataTable) return;\n",
              "\n",
              "          const docLinkHtml = 'Like what you see? Visit the ' +\n",
              "            '<a target=\"_blank\" href=https://colab.research.google.com/notebooks/data_table.ipynb>data table notebook</a>'\n",
              "            + ' to learn more about interactive tables.';\n",
              "          element.innerHTML = '';\n",
              "          dataTable['output_type'] = 'display_data';\n",
              "          await google.colab.output.renderOutput(dataTable, element);\n",
              "          const docLink = document.createElement('div');\n",
              "          docLink.innerHTML = docLinkHtml;\n",
              "          element.appendChild(docLink);\n",
              "        }\n",
              "      </script>\n",
              "    </div>\n",
              "  </div>\n",
              "  "
            ]
          },
          "metadata": {},
          "execution_count": 9
        }
      ],
      "source": [
        "df.head()"
      ],
      "id": "EVmknjl1o7CB"
    },
    {
      "cell_type": "markdown",
      "metadata": {
        "id": "0380b40a-f540-4225-8ffc-50059fd28a2c"
      },
      "source": [
        "## Train / Validation Split"
      ],
      "id": "0380b40a-f540-4225-8ffc-50059fd28a2c"
    },
    {
      "cell_type": "code",
      "execution_count": 10,
      "metadata": {
        "id": "e6264d0c-597c-42ac-9f3a-7189a5883028"
      },
      "outputs": [],
      "source": [
        "# shuffle 후 split\n",
        "df = df.sample(frac=1) # A random 100% sample of the DataFrame without replacement (default:replace=False)\n",
        "train_len = int(len(df) * 0.8)"
      ],
      "id": "e6264d0c-597c-42ac-9f3a-7189a5883028"
    },
    {
      "cell_type": "code",
      "execution_count": 11,
      "metadata": {
        "colab": {
          "base_uri": "https://localhost:8080/",
          "height": 206
        },
        "id": "_hz1tb4KpDot",
        "outputId": "ab574d24-7a39-47a7-efc4-ba3856428c3f"
      },
      "outputs": [
        {
          "output_type": "execute_result",
          "data": {
            "text/plain": [
              "                id                 img_path  A  B  C  D  E  F  G  H  I  J\n",
              "2253   TRAIN_02253  ./train/TRAIN_02253.jpg  0  1  1  0  1  0  0  0  0  0\n",
              "9609   TRAIN_09609  ./train/TRAIN_09609.jpg  1  0  1  1  1  0  1  0  0  0\n",
              "25434  TRAIN_25434  ./train/TRAIN_25434.jpg  0  1  1  1  0  0  0  0  0  0\n",
              "18725  TRAIN_18725  ./train/TRAIN_18725.jpg  0  0  1  1  1  1  0  1  1  0\n",
              "5887   TRAIN_05887  ./train/TRAIN_05887.jpg  0  1  1  1  0  0  0  0  0  1"
            ],
            "text/html": [
              "\n",
              "  <div id=\"df-48bab5ec-7743-45e9-928a-e8a672d196e3\">\n",
              "    <div class=\"colab-df-container\">\n",
              "      <div>\n",
              "<style scoped>\n",
              "    .dataframe tbody tr th:only-of-type {\n",
              "        vertical-align: middle;\n",
              "    }\n",
              "\n",
              "    .dataframe tbody tr th {\n",
              "        vertical-align: top;\n",
              "    }\n",
              "\n",
              "    .dataframe thead th {\n",
              "        text-align: right;\n",
              "    }\n",
              "</style>\n",
              "<table border=\"1\" class=\"dataframe\">\n",
              "  <thead>\n",
              "    <tr style=\"text-align: right;\">\n",
              "      <th></th>\n",
              "      <th>id</th>\n",
              "      <th>img_path</th>\n",
              "      <th>A</th>\n",
              "      <th>B</th>\n",
              "      <th>C</th>\n",
              "      <th>D</th>\n",
              "      <th>E</th>\n",
              "      <th>F</th>\n",
              "      <th>G</th>\n",
              "      <th>H</th>\n",
              "      <th>I</th>\n",
              "      <th>J</th>\n",
              "    </tr>\n",
              "  </thead>\n",
              "  <tbody>\n",
              "    <tr>\n",
              "      <th>2253</th>\n",
              "      <td>TRAIN_02253</td>\n",
              "      <td>./train/TRAIN_02253.jpg</td>\n",
              "      <td>0</td>\n",
              "      <td>1</td>\n",
              "      <td>1</td>\n",
              "      <td>0</td>\n",
              "      <td>1</td>\n",
              "      <td>0</td>\n",
              "      <td>0</td>\n",
              "      <td>0</td>\n",
              "      <td>0</td>\n",
              "      <td>0</td>\n",
              "    </tr>\n",
              "    <tr>\n",
              "      <th>9609</th>\n",
              "      <td>TRAIN_09609</td>\n",
              "      <td>./train/TRAIN_09609.jpg</td>\n",
              "      <td>1</td>\n",
              "      <td>0</td>\n",
              "      <td>1</td>\n",
              "      <td>1</td>\n",
              "      <td>1</td>\n",
              "      <td>0</td>\n",
              "      <td>1</td>\n",
              "      <td>0</td>\n",
              "      <td>0</td>\n",
              "      <td>0</td>\n",
              "    </tr>\n",
              "    <tr>\n",
              "      <th>25434</th>\n",
              "      <td>TRAIN_25434</td>\n",
              "      <td>./train/TRAIN_25434.jpg</td>\n",
              "      <td>0</td>\n",
              "      <td>1</td>\n",
              "      <td>1</td>\n",
              "      <td>1</td>\n",
              "      <td>0</td>\n",
              "      <td>0</td>\n",
              "      <td>0</td>\n",
              "      <td>0</td>\n",
              "      <td>0</td>\n",
              "      <td>0</td>\n",
              "    </tr>\n",
              "    <tr>\n",
              "      <th>18725</th>\n",
              "      <td>TRAIN_18725</td>\n",
              "      <td>./train/TRAIN_18725.jpg</td>\n",
              "      <td>0</td>\n",
              "      <td>0</td>\n",
              "      <td>1</td>\n",
              "      <td>1</td>\n",
              "      <td>1</td>\n",
              "      <td>1</td>\n",
              "      <td>0</td>\n",
              "      <td>1</td>\n",
              "      <td>1</td>\n",
              "      <td>0</td>\n",
              "    </tr>\n",
              "    <tr>\n",
              "      <th>5887</th>\n",
              "      <td>TRAIN_05887</td>\n",
              "      <td>./train/TRAIN_05887.jpg</td>\n",
              "      <td>0</td>\n",
              "      <td>1</td>\n",
              "      <td>1</td>\n",
              "      <td>1</td>\n",
              "      <td>0</td>\n",
              "      <td>0</td>\n",
              "      <td>0</td>\n",
              "      <td>0</td>\n",
              "      <td>0</td>\n",
              "      <td>1</td>\n",
              "    </tr>\n",
              "  </tbody>\n",
              "</table>\n",
              "</div>\n",
              "      <button class=\"colab-df-convert\" onclick=\"convertToInteractive('df-48bab5ec-7743-45e9-928a-e8a672d196e3')\"\n",
              "              title=\"Convert this dataframe to an interactive table.\"\n",
              "              style=\"display:none;\">\n",
              "        \n",
              "  <svg xmlns=\"http://www.w3.org/2000/svg\" height=\"24px\"viewBox=\"0 0 24 24\"\n",
              "       width=\"24px\">\n",
              "    <path d=\"M0 0h24v24H0V0z\" fill=\"none\"/>\n",
              "    <path d=\"M18.56 5.44l.94 2.06.94-2.06 2.06-.94-2.06-.94-.94-2.06-.94 2.06-2.06.94zm-11 1L8.5 8.5l.94-2.06 2.06-.94-2.06-.94L8.5 2.5l-.94 2.06-2.06.94zm10 10l.94 2.06.94-2.06 2.06-.94-2.06-.94-.94-2.06-.94 2.06-2.06.94z\"/><path d=\"M17.41 7.96l-1.37-1.37c-.4-.4-.92-.59-1.43-.59-.52 0-1.04.2-1.43.59L10.3 9.45l-7.72 7.72c-.78.78-.78 2.05 0 2.83L4 21.41c.39.39.9.59 1.41.59.51 0 1.02-.2 1.41-.59l7.78-7.78 2.81-2.81c.8-.78.8-2.07 0-2.86zM5.41 20L4 18.59l7.72-7.72 1.47 1.35L5.41 20z\"/>\n",
              "  </svg>\n",
              "      </button>\n",
              "      \n",
              "  <style>\n",
              "    .colab-df-container {\n",
              "      display:flex;\n",
              "      flex-wrap:wrap;\n",
              "      gap: 12px;\n",
              "    }\n",
              "\n",
              "    .colab-df-convert {\n",
              "      background-color: #E8F0FE;\n",
              "      border: none;\n",
              "      border-radius: 50%;\n",
              "      cursor: pointer;\n",
              "      display: none;\n",
              "      fill: #1967D2;\n",
              "      height: 32px;\n",
              "      padding: 0 0 0 0;\n",
              "      width: 32px;\n",
              "    }\n",
              "\n",
              "    .colab-df-convert:hover {\n",
              "      background-color: #E2EBFA;\n",
              "      box-shadow: 0px 1px 2px rgba(60, 64, 67, 0.3), 0px 1px 3px 1px rgba(60, 64, 67, 0.15);\n",
              "      fill: #174EA6;\n",
              "    }\n",
              "\n",
              "    [theme=dark] .colab-df-convert {\n",
              "      background-color: #3B4455;\n",
              "      fill: #D2E3FC;\n",
              "    }\n",
              "\n",
              "    [theme=dark] .colab-df-convert:hover {\n",
              "      background-color: #434B5C;\n",
              "      box-shadow: 0px 1px 3px 1px rgba(0, 0, 0, 0.15);\n",
              "      filter: drop-shadow(0px 1px 2px rgba(0, 0, 0, 0.3));\n",
              "      fill: #FFFFFF;\n",
              "    }\n",
              "  </style>\n",
              "\n",
              "      <script>\n",
              "        const buttonEl =\n",
              "          document.querySelector('#df-48bab5ec-7743-45e9-928a-e8a672d196e3 button.colab-df-convert');\n",
              "        buttonEl.style.display =\n",
              "          google.colab.kernel.accessAllowed ? 'block' : 'none';\n",
              "\n",
              "        async function convertToInteractive(key) {\n",
              "          const element = document.querySelector('#df-48bab5ec-7743-45e9-928a-e8a672d196e3');\n",
              "          const dataTable =\n",
              "            await google.colab.kernel.invokeFunction('convertToInteractive',\n",
              "                                                     [key], {});\n",
              "          if (!dataTable) return;\n",
              "\n",
              "          const docLinkHtml = 'Like what you see? Visit the ' +\n",
              "            '<a target=\"_blank\" href=https://colab.research.google.com/notebooks/data_table.ipynb>data table notebook</a>'\n",
              "            + ' to learn more about interactive tables.';\n",
              "          element.innerHTML = '';\n",
              "          dataTable['output_type'] = 'display_data';\n",
              "          await google.colab.output.renderOutput(dataTable, element);\n",
              "          const docLink = document.createElement('div');\n",
              "          docLink.innerHTML = docLinkHtml;\n",
              "          element.appendChild(docLink);\n",
              "        }\n",
              "      </script>\n",
              "    </div>\n",
              "  </div>\n",
              "  "
            ]
          },
          "metadata": {},
          "execution_count": 11
        }
      ],
      "source": [
        "df.head()"
      ],
      "id": "_hz1tb4KpDot"
    },
    {
      "cell_type": "code",
      "execution_count": 12,
      "metadata": {
        "id": "2f59d10c-b6b1-44b1-808c-4135e0cfe016"
      },
      "outputs": [],
      "source": [
        "train = df[:train_len]\n",
        "val = df[train_len:]"
      ],
      "id": "2f59d10c-b6b1-44b1-808c-4135e0cfe016"
    },
    {
      "cell_type": "markdown",
      "metadata": {
        "id": "ad2d1e99-e723-4eb8-973c-b7eb2f8a771a"
      },
      "source": [
        "## Data Preprocessing"
      ],
      "id": "ad2d1e99-e723-4eb8-973c-b7eb2f8a771a"
    },
    {
      "cell_type": "code",
      "execution_count": 13,
      "metadata": {
        "id": "3ca4c3bb-d300-4c2a-9147-94d90e6faab6"
      },
      "outputs": [],
      "source": [
        "def get_labels(df):\n",
        "    return df.iloc[:,2:].values # A~J"
      ],
      "id": "3ca4c3bb-d300-4c2a-9147-94d90e6faab6"
    },
    {
      "cell_type": "code",
      "execution_count": 14,
      "metadata": {
        "id": "0cd90813-1721-4d99-9a1c-d642758abc8d"
      },
      "outputs": [],
      "source": [
        "train_labels = get_labels(train)\n",
        "val_labels = get_labels(val)"
      ],
      "id": "0cd90813-1721-4d99-9a1c-d642758abc8d"
    },
    {
      "cell_type": "markdown",
      "metadata": {
        "id": "ac27ed36-8031-47a7-bd0d-a913513f2e8e"
      },
      "source": [
        "## CustomDataset"
      ],
      "id": "ac27ed36-8031-47a7-bd0d-a913513f2e8e"
    },
    {
      "cell_type": "code",
      "execution_count": 15,
      "metadata": {
        "id": "16fd60a5-24e2-4539-bfd0-1c374a641699"
      },
      "outputs": [],
      "source": [
        "class CustomDataset(Dataset):\n",
        "    # 전처리\n",
        "    def __init__(self, img_path_list, label_list, transforms=None):\n",
        "        self.img_path_list = img_path_list # 이미지가 저장된 경로\n",
        "        self.label_list = label_list # 인덱스+정답\n",
        "        self.transforms = transforms\n",
        "        \n",
        "    # 특정 1개 샘플 가져오는 함수: dataset[i]로 i번째 샘플을 가져오는 인덱싱 위한 함수\n",
        "    def __getitem__(self, index):\n",
        "        img_path = self.img_path_list[index]\n",
        "        \n",
        "        image = cv2.imread(img_path) # 이미지, 라벨 불러오기, 아직 numpy\n",
        "        \n",
        "        # transform 적용: numpy to tensor\n",
        "        if self.transforms is not None:\n",
        "            image = self.transforms(image=image)['image'] # augmentation된 이미지 얻기\n",
        "        \n",
        "        if self.label_list is not None:\n",
        "            label = torch.FloatTensor(self.label_list[index])\n",
        "            return image, label\n",
        "        else:\n",
        "            return image\n",
        "    \n",
        "    # 데이터셋 길이를 리턴\n",
        "    def __len__(self):\n",
        "        return len(self.img_path_list)"
      ],
      "id": "16fd60a5-24e2-4539-bfd0-1c374a641699"
    },
    {
      "cell_type": "code",
      "execution_count": 16,
      "metadata": {
        "id": "c01b4067-0669-44a9-bbbc-3065d8cb00c2",
        "colab": {
          "base_uri": "https://localhost:8080/",
          "height": 89
        },
        "outputId": "c20385b4-a630-4d98-c0d5-45540903bae7"
      },
      "outputs": [
        {
          "output_type": "execute_result",
          "data": {
            "text/plain": [
              "'\\nResize: height, width 모두 224로 지정\\nNormalize: 입력 받은 이미지 값의 범위를 (0, 255) → (-1, 1) 범위로 줄여 1) 학습이 빨리 수렴되고 2) 특정 입력값의 영향 줄임\\n          보통 mean, std 값을 (0, 255) 사이의 값으로 저장하거나(이때 max_pixel_value=1.0)\\n          (-1, 1) 사이의 값으로 저장합니다.(이때 max_pixel_value=255)\\n          참고로 mean, std는 리스트, 튜플 또는 넘파이 배열로 입력하면 됩니다.\\n          \\nToTensorV2: augmentation이 적용된 데이터를 numpy -> torch 타입으로 변환\\n'"
            ],
            "application/vnd.google.colaboratory.intrinsic+json": {
              "type": "string"
            }
          },
          "metadata": {},
          "execution_count": 16
        }
      ],
      "source": [
        "# 이미지와 라벨 각각에 Augmentation을 적용하기 위한 객체/파이프라인을 생성합니다.\n",
        "# 다양한 augmentation 방법을 A.Compose()로 묶어서 transform을 생성합니다.\n",
        "# 이후 모델 학습 시 augmentation하기 위함\n",
        "\n",
        "# import albumentations as A\n",
        "\n",
        "train_transform = A.Compose([\n",
        "    A.Resize(CFG['IMG_SIZE'],CFG['IMG_SIZE']),\n",
        "    A.Normalize(mean=(0.485, 0.456, 0.406),\n",
        "                std=(0.229, 0.224, 0.225),\n",
        "                max_pixel_value=255.0, always_apply=False, p=1.0),\n",
        "    ToTensorV2()\n",
        "    ])\n",
        "\n",
        "test_transform = A.Compose([\n",
        "    A.Resize(CFG['IMG_SIZE'],CFG['IMG_SIZE']),\n",
        "    A.Normalize(mean=(0.485, 0.456, 0.406), std=(0.229, 0.224, 0.225), max_pixel_value=255.0, always_apply=False, p=1.0),\n",
        "    ToTensorV2()\n",
        "    ])\n",
        "\n",
        "'''\n",
        "Resize: height, width 모두 224로 지정\n",
        "Normalize: 입력 받은 이미지 값의 범위를 (0, 255) → (-1, 1) 범위로 줄여 1) 학습이 빨리 수렴되고 2) 특정 입력값의 영향 줄임\n",
        "          보통 mean, std 값을 (0, 255) 사이의 값으로 저장하거나(이때 max_pixel_value=1.0)\n",
        "          (-1, 1) 사이의 값으로 저장합니다.(이때 max_pixel_value=255)\n",
        "          참고로 mean, std는 리스트, 튜플 또는 넘파이 배열로 입력하면 됩니다.\n",
        "          \n",
        "ToTensorV2: augmentation이 적용된 데이터를 numpy -> torch 타입으로 변환\n",
        "'''"
      ],
      "id": "c01b4067-0669-44a9-bbbc-3065d8cb00c2"
    },
    {
      "cell_type": "code",
      "execution_count": 18,
      "metadata": {
        "id": "9d880481-1965-499d-9caa-fdfa8526f789"
      },
      "outputs": [],
      "source": [
        "# Dataset 정의\n",
        "# 000_transform 이용해 실제 augmentation 적용\n",
        "train_dataset = CustomDataset(train['img_path'].values, train_labels, train_transform)\n",
        "val_dataset = CustomDataset(val['img_path'].values, val_labels, test_transform)\n",
        "\n",
        "# DataLoader 정의\n",
        "# 순서 섞어서 batch_size(128)개씩 데이터 반환\n",
        "train_loader = DataLoader(train_dataset, \n",
        "                          batch_size = CFG['BATCH_SIZE'], \n",
        "                          shuffle=False,\n",
        "                          num_workers=0)\n",
        "val_loader = DataLoader(val_dataset, \n",
        "                        batch_size = CFG['BATCH_SIZE'], \n",
        "                        shuffle=False, \n",
        "                        num_workers=0)"
      ],
      "id": "9d880481-1965-499d-9caa-fdfa8526f789"
    },
    {
      "cell_type": "markdown",
      "metadata": {
        "id": "39962463-032f-490a-a76d-c03991795f38"
      },
      "source": [
        "## Model Define"
      ],
      "id": "39962463-032f-490a-a76d-c03991795f38"
    },
    {
      "cell_type": "code",
      "execution_count": 19,
      "metadata": {
        "id": "3664c4d0-f1f2-4971-9090-4d6ee66309ae"
      },
      "outputs": [],
      "source": [
        "# nn.Module을 상속 받아 BaseModel 정의\n",
        "class BaseModel(nn.Module):\n",
        "    def __init__(self, num_classes=10):\n",
        "        super(BaseModel, self).__init__()\n",
        "        self.backbone = models.efficientnet_b0(pretrained=True)\n",
        "        self.classifier = nn.Linear(1000, num_classes)\n",
        "        \n",
        "    def forward(self, x):\n",
        "        x = self.backbone(x)\n",
        "        x = F.sigmoid(self.classifier(x))\n",
        "        return x"
      ],
      "id": "3664c4d0-f1f2-4971-9090-4d6ee66309ae"
    },
    {
      "cell_type": "markdown",
      "metadata": {
        "id": "122af0aa-a1fd-4595-9488-35761e3cb596"
      },
      "source": [
        "## Train"
      ],
      "id": "122af0aa-a1fd-4595-9488-35761e3cb596"
    },
    {
      "cell_type": "code",
      "execution_count": 20,
      "metadata": {
        "id": "a17df6b3-16c9-44dd-b0fd-ffb501fee749"
      },
      "outputs": [],
      "source": [
        "def train(model, optimizer, train_loader, val_loader, scheduler, device):\n",
        "    model.to(device)\n",
        "    criterion = nn.BCELoss().to(device)\n",
        "    \n",
        "    best_val_acc = 0\n",
        "    best_model = None\n",
        "    \n",
        "    for epoch in range(1, CFG['EPOCHS']+1):\n",
        "        model.train()\n",
        "        train_loss = []\n",
        "        for imgs, labels in tqdm(iter(train_loader)):\n",
        "            imgs = imgs.float().to(device)\n",
        "            labels = labels.to(device)\n",
        "            \n",
        "            optimizer.zero_grad()\n",
        "            \n",
        "            output = model(imgs)\n",
        "            loss = criterion(output, labels)\n",
        "            \n",
        "            loss.backward()\n",
        "            optimizer.step()\n",
        "            \n",
        "            train_loss.append(loss.item())\n",
        "                    \n",
        "        _val_loss, _val_acc = validation(model, criterion, val_loader, device)\n",
        "        _train_loss = np.mean(train_loss)\n",
        "        print(f'Epoch [{epoch}], Train Loss : [{_train_loss:.5f}] Val Loss : [{_val_loss:.5f}] Val ACC : [{_val_acc:.5f}]')\n",
        "        \n",
        "        if scheduler is not None:\n",
        "            scheduler.step(_val_acc)\n",
        "            \n",
        "        if best_val_acc < _val_acc:\n",
        "            best_val_acc = _val_acc\n",
        "            best_model = model\n",
        "    \n",
        "    return best_model"
      ],
      "id": "a17df6b3-16c9-44dd-b0fd-ffb501fee749"
    },
    {
      "cell_type": "code",
      "execution_count": 21,
      "metadata": {
        "id": "24a0bf01-27cd-4faf-93b1-3aa8a37be01c"
      },
      "outputs": [],
      "source": [
        "def validation(model, criterion, val_loader, device):\n",
        "    model.eval()\n",
        "    val_loss = []\n",
        "    val_acc = []\n",
        "    with torch.no_grad():\n",
        "        for imgs, labels in tqdm(iter(val_loader)):\n",
        "            imgs = imgs.float().to(device)\n",
        "            labels = labels.to(device)\n",
        "            \n",
        "            probs = model(imgs)\n",
        "            \n",
        "            loss = criterion(probs, labels)\n",
        "            \n",
        "            probs  = probs.cpu().detach().numpy()\n",
        "            labels = labels.cpu().detach().numpy()\n",
        "            preds = probs > 0.5\n",
        "            batch_acc = (labels == preds).mean()\n",
        "            \n",
        "            val_acc.append(batch_acc)\n",
        "            val_loss.append(loss.item())\n",
        "        \n",
        "        _val_loss = np.mean(val_loss)\n",
        "        _val_acc = np.mean(val_acc)\n",
        "    \n",
        "    return _val_loss, _val_acc"
      ],
      "id": "24a0bf01-27cd-4faf-93b1-3aa8a37be01c"
    },
    {
      "cell_type": "markdown",
      "metadata": {
        "id": "51da39f9-904f-4abd-a7d2-cdf29c4a6c24"
      },
      "source": [
        "## Run!!"
      ],
      "id": "51da39f9-904f-4abd-a7d2-cdf29c4a6c24"
    },
    {
      "cell_type": "code",
      "execution_count": null,
      "metadata": {
        "colab": {
          "base_uri": "https://localhost:8080/",
          "height": 119,
          "referenced_widgets": [
            "442c3e349bd641d8ad8cd26b6e791704",
            "06e2821ec1554aeb80d1891518bd75b6",
            "5ec8715c273f4458806a55094bf2c3d2",
            "556fcbf186f44aeab9363ff0e75aff12",
            "1d00d7b162ba43b1829a07c3f52f6fb3",
            "586ac86b11d14d079319e851f7c1331d",
            "481ce48e1a384b58a83c1723c4d4fd8a",
            "feb5a8b0b3724b7d82e70da8ecac0f13",
            "9437d69fd7fc4b099b3fad973d508acd",
            "2c5d6cd473b94e03b59d42c382f033ca",
            "984a3f4631b74e2bbae8cff5f29cd4e4",
            "a2633a8e30424eb690f2fd4a792ea92a",
            "88dd7a519e4a433dbbb56d2918ece4ee",
            "1cdd527b1f2a4d5ebf392392a14a26af",
            "9f7ff428eb87418a819b173d2b661401",
            "388334d83a39460c8ef009847fbcaabf",
            "f85980c3de4240389cf569163cb72b0f",
            "4c7bf0e7aef145a3bcefdc7968e2adad",
            "edad3385ef8342819f4a4b1de4089403",
            "4099b4786fb14c6c8e85bdbe6ebf47f0",
            "1f262636f47649098eb08d7f1bd85316",
            "04cab41e90b347b0b9767f097e8b49a8"
          ]
        },
        "id": "86142d9a-68b7-4d04-8423-49d28025411d",
        "outputId": "f9ab19df-12e3-4c88-f6ab-3f433895cded"
      },
      "outputs": [
        {
          "output_type": "stream",
          "name": "stderr",
          "text": [
            "Downloading: \"https://download.pytorch.org/models/efficientnet_b0_rwightman-3dd342df.pth\" to /root/.cache/torch/hub/checkpoints/efficientnet_b0_rwightman-3dd342df.pth\n"
          ]
        },
        {
          "output_type": "display_data",
          "data": {
            "text/plain": [
              "  0%|          | 0.00/20.5M [00:00<?, ?B/s]"
            ],
            "application/vnd.jupyter.widget-view+json": {
              "version_major": 2,
              "version_minor": 0,
              "model_id": "442c3e349bd641d8ad8cd26b6e791704"
            }
          },
          "metadata": {}
        },
        {
          "output_type": "display_data",
          "data": {
            "text/plain": [
              "  0%|          | 0/207 [00:00<?, ?it/s]"
            ],
            "application/vnd.jupyter.widget-view+json": {
              "version_major": 2,
              "version_minor": 0,
              "model_id": "a2633a8e30424eb690f2fd4a792ea92a"
            }
          },
          "metadata": {}
        }
      ],
      "source": [
        "model = BaseModel()\n",
        "model.eval()\n",
        "optimizer = torch.optim.Adam(params = model.parameters(), lr = CFG[\"LEARNING_RATE\"])\n",
        "scheduler = torch.optim.lr_scheduler.ReduceLROnPlateau(optimizer, mode='max', factor=0.5, patience=2,threshold_mode='abs',min_lr=1e-8, verbose=True)\n",
        "\n",
        "infer_model = train(model, optimizer, train_loader, val_loader, scheduler, device)"
      ],
      "id": "86142d9a-68b7-4d04-8423-49d28025411d"
    },
    {
      "cell_type": "markdown",
      "metadata": {
        "id": "d32efed9-ec88-40fc-83d2-e995e48c372a"
      },
      "source": [
        "## Inference"
      ],
      "id": "d32efed9-ec88-40fc-83d2-e995e48c372a"
    },
    {
      "cell_type": "code",
      "execution_count": null,
      "metadata": {
        "id": "0498feef-9ca7-42ea-b73a-51a06dd4c684"
      },
      "outputs": [],
      "source": [
        "test = pd.read_csv('test.csv')"
      ],
      "id": "0498feef-9ca7-42ea-b73a-51a06dd4c684"
    },
    {
      "cell_type": "code",
      "execution_count": null,
      "metadata": {
        "id": "a1bc676a-5216-4e1a-ac2c-3e940e8a3909"
      },
      "outputs": [],
      "source": [
        "test_dataset = CustomDataset(test['img_path'].values, None, test_transform)\n",
        "test_loader = DataLoader(test_dataset, batch_size = CFG['BATCH_SIZE'], shuffle=False, num_workers=0)"
      ],
      "id": "a1bc676a-5216-4e1a-ac2c-3e940e8a3909"
    },
    {
      "cell_type": "code",
      "execution_count": null,
      "metadata": {
        "id": "acc072b1-3749-4a0a-8c3b-80ef39a2fd56"
      },
      "outputs": [],
      "source": [
        "def inference(model, test_loader, device):\n",
        "    model.to(device)\n",
        "    model.eval()\n",
        "    predictions = []\n",
        "    with torch.no_grad():\n",
        "        for imgs in tqdm(iter(test_loader)):\n",
        "            imgs = imgs.float().to(device)\n",
        "            \n",
        "            probs = model(imgs)\n",
        "\n",
        "            probs  = probs.cpu().detach().numpy()\n",
        "            preds = probs > 0.5\n",
        "            preds = preds.astype(int)\n",
        "            predictions += preds.tolist()\n",
        "    return predictions"
      ],
      "id": "acc072b1-3749-4a0a-8c3b-80ef39a2fd56"
    },
    {
      "cell_type": "code",
      "execution_count": null,
      "metadata": {
        "colab": {
          "base_uri": "https://localhost:8080/",
          "height": 49,
          "referenced_widgets": [
            "75397e2972254a0ea490b344fb601f40",
            "59af54a5737e4312b9f86eafbd82871b",
            "1ccf7737be744636a0a2f99709df6878",
            "a9f77b4e96db47b8b59bfd83b8b5b84a",
            "72619fae569d4edbbeb5b84342d6b5d4",
            "979dbd17f84b47b882344ae153b98c90",
            "ab855014804641bf90c4184c3be392f4",
            "40e43f51658241a295302d649a8958c9",
            "61b1595e0457480dbd03f9443c7ddc75",
            "dc878be478de4448ad7ce600107b7903",
            "cf0a09b7d8894fe9ad6a4c556480bf3b"
          ]
        },
        "id": "9fcce1a1-995c-403b-9229-f4253dd5c702",
        "outputId": "99fe928a-a1dc-4a52-99b3-6775c8118e2d"
      },
      "outputs": [
        {
          "data": {
            "application/vnd.jupyter.widget-view+json": {
              "model_id": "75397e2972254a0ea490b344fb601f40",
              "version_major": 2,
              "version_minor": 0
            },
            "text/plain": [
              "  0%|          | 0/12 [00:00<?, ?it/s]"
            ]
          },
          "metadata": {},
          "output_type": "display_data"
        }
      ],
      "source": [
        "preds = inference(infer_model, test_loader, device)"
      ],
      "id": "9fcce1a1-995c-403b-9229-f4253dd5c702"
    },
    {
      "cell_type": "markdown",
      "metadata": {
        "id": "370e5a18-de28-4c3d-a33b-77d4797911eb"
      },
      "source": [
        "## Submission"
      ],
      "id": "370e5a18-de28-4c3d-a33b-77d4797911eb"
    },
    {
      "cell_type": "code",
      "execution_count": null,
      "metadata": {
        "id": "95107b25-7d4b-423f-90ce-849c6f4a46c0"
      },
      "outputs": [],
      "source": [
        "submit = pd.read_csv('sample_submission.csv')"
      ],
      "id": "95107b25-7d4b-423f-90ce-849c6f4a46c0"
    },
    {
      "cell_type": "code",
      "execution_count": null,
      "metadata": {
        "colab": {
          "base_uri": "https://localhost:8080/",
          "height": 206
        },
        "id": "c7d82083-af35-4ba5-957d-1c7451404eab",
        "outputId": "871c597e-e99f-4e9e-bb86-3fca0a2c3337"
      },
      "outputs": [
        {
          "data": {
            "text/html": [
              "\n",
              "  <div id=\"df-9991366b-3526-4c40-b9d1-6835b845889f\">\n",
              "    <div class=\"colab-df-container\">\n",
              "      <div>\n",
              "<style scoped>\n",
              "    .dataframe tbody tr th:only-of-type {\n",
              "        vertical-align: middle;\n",
              "    }\n",
              "\n",
              "    .dataframe tbody tr th {\n",
              "        vertical-align: top;\n",
              "    }\n",
              "\n",
              "    .dataframe thead th {\n",
              "        text-align: right;\n",
              "    }\n",
              "</style>\n",
              "<table border=\"1\" class=\"dataframe\">\n",
              "  <thead>\n",
              "    <tr style=\"text-align: right;\">\n",
              "      <th></th>\n",
              "      <th>id</th>\n",
              "      <th>A</th>\n",
              "      <th>B</th>\n",
              "      <th>C</th>\n",
              "      <th>D</th>\n",
              "      <th>E</th>\n",
              "      <th>F</th>\n",
              "      <th>G</th>\n",
              "      <th>H</th>\n",
              "      <th>I</th>\n",
              "      <th>J</th>\n",
              "    </tr>\n",
              "  </thead>\n",
              "  <tbody>\n",
              "    <tr>\n",
              "      <th>0</th>\n",
              "      <td>TEST_00000</td>\n",
              "      <td>1</td>\n",
              "      <td>1</td>\n",
              "      <td>1</td>\n",
              "      <td>0</td>\n",
              "      <td>0</td>\n",
              "      <td>1</td>\n",
              "      <td>1</td>\n",
              "      <td>0</td>\n",
              "      <td>1</td>\n",
              "      <td>0</td>\n",
              "    </tr>\n",
              "    <tr>\n",
              "      <th>1</th>\n",
              "      <td>TEST_00001</td>\n",
              "      <td>0</td>\n",
              "      <td>1</td>\n",
              "      <td>1</td>\n",
              "      <td>0</td>\n",
              "      <td>1</td>\n",
              "      <td>1</td>\n",
              "      <td>1</td>\n",
              "      <td>0</td>\n",
              "      <td>0</td>\n",
              "      <td>0</td>\n",
              "    </tr>\n",
              "    <tr>\n",
              "      <th>2</th>\n",
              "      <td>TEST_00002</td>\n",
              "      <td>1</td>\n",
              "      <td>1</td>\n",
              "      <td>0</td>\n",
              "      <td>1</td>\n",
              "      <td>1</td>\n",
              "      <td>1</td>\n",
              "      <td>0</td>\n",
              "      <td>1</td>\n",
              "      <td>0</td>\n",
              "      <td>1</td>\n",
              "    </tr>\n",
              "    <tr>\n",
              "      <th>3</th>\n",
              "      <td>TEST_00003</td>\n",
              "      <td>1</td>\n",
              "      <td>1</td>\n",
              "      <td>0</td>\n",
              "      <td>0</td>\n",
              "      <td>1</td>\n",
              "      <td>1</td>\n",
              "      <td>1</td>\n",
              "      <td>0</td>\n",
              "      <td>1</td>\n",
              "      <td>0</td>\n",
              "    </tr>\n",
              "    <tr>\n",
              "      <th>4</th>\n",
              "      <td>TEST_00004</td>\n",
              "      <td>1</td>\n",
              "      <td>1</td>\n",
              "      <td>1</td>\n",
              "      <td>0</td>\n",
              "      <td>1</td>\n",
              "      <td>1</td>\n",
              "      <td>1</td>\n",
              "      <td>0</td>\n",
              "      <td>0</td>\n",
              "      <td>0</td>\n",
              "    </tr>\n",
              "  </tbody>\n",
              "</table>\n",
              "</div>\n",
              "      <button class=\"colab-df-convert\" onclick=\"convertToInteractive('df-9991366b-3526-4c40-b9d1-6835b845889f')\"\n",
              "              title=\"Convert this dataframe to an interactive table.\"\n",
              "              style=\"display:none;\">\n",
              "        \n",
              "  <svg xmlns=\"http://www.w3.org/2000/svg\" height=\"24px\"viewBox=\"0 0 24 24\"\n",
              "       width=\"24px\">\n",
              "    <path d=\"M0 0h24v24H0V0z\" fill=\"none\"/>\n",
              "    <path d=\"M18.56 5.44l.94 2.06.94-2.06 2.06-.94-2.06-.94-.94-2.06-.94 2.06-2.06.94zm-11 1L8.5 8.5l.94-2.06 2.06-.94-2.06-.94L8.5 2.5l-.94 2.06-2.06.94zm10 10l.94 2.06.94-2.06 2.06-.94-2.06-.94-.94-2.06-.94 2.06-2.06.94z\"/><path d=\"M17.41 7.96l-1.37-1.37c-.4-.4-.92-.59-1.43-.59-.52 0-1.04.2-1.43.59L10.3 9.45l-7.72 7.72c-.78.78-.78 2.05 0 2.83L4 21.41c.39.39.9.59 1.41.59.51 0 1.02-.2 1.41-.59l7.78-7.78 2.81-2.81c.8-.78.8-2.07 0-2.86zM5.41 20L4 18.59l7.72-7.72 1.47 1.35L5.41 20z\"/>\n",
              "  </svg>\n",
              "      </button>\n",
              "      \n",
              "  <style>\n",
              "    .colab-df-container {\n",
              "      display:flex;\n",
              "      flex-wrap:wrap;\n",
              "      gap: 12px;\n",
              "    }\n",
              "\n",
              "    .colab-df-convert {\n",
              "      background-color: #E8F0FE;\n",
              "      border: none;\n",
              "      border-radius: 50%;\n",
              "      cursor: pointer;\n",
              "      display: none;\n",
              "      fill: #1967D2;\n",
              "      height: 32px;\n",
              "      padding: 0 0 0 0;\n",
              "      width: 32px;\n",
              "    }\n",
              "\n",
              "    .colab-df-convert:hover {\n",
              "      background-color: #E2EBFA;\n",
              "      box-shadow: 0px 1px 2px rgba(60, 64, 67, 0.3), 0px 1px 3px 1px rgba(60, 64, 67, 0.15);\n",
              "      fill: #174EA6;\n",
              "    }\n",
              "\n",
              "    [theme=dark] .colab-df-convert {\n",
              "      background-color: #3B4455;\n",
              "      fill: #D2E3FC;\n",
              "    }\n",
              "\n",
              "    [theme=dark] .colab-df-convert:hover {\n",
              "      background-color: #434B5C;\n",
              "      box-shadow: 0px 1px 3px 1px rgba(0, 0, 0, 0.15);\n",
              "      filter: drop-shadow(0px 1px 2px rgba(0, 0, 0, 0.3));\n",
              "      fill: #FFFFFF;\n",
              "    }\n",
              "  </style>\n",
              "\n",
              "      <script>\n",
              "        const buttonEl =\n",
              "          document.querySelector('#df-9991366b-3526-4c40-b9d1-6835b845889f button.colab-df-convert');\n",
              "        buttonEl.style.display =\n",
              "          google.colab.kernel.accessAllowed ? 'block' : 'none';\n",
              "\n",
              "        async function convertToInteractive(key) {\n",
              "          const element = document.querySelector('#df-9991366b-3526-4c40-b9d1-6835b845889f');\n",
              "          const dataTable =\n",
              "            await google.colab.kernel.invokeFunction('convertToInteractive',\n",
              "                                                     [key], {});\n",
              "          if (!dataTable) return;\n",
              "\n",
              "          const docLinkHtml = 'Like what you see? Visit the ' +\n",
              "            '<a target=\"_blank\" href=https://colab.research.google.com/notebooks/data_table.ipynb>data table notebook</a>'\n",
              "            + ' to learn more about interactive tables.';\n",
              "          element.innerHTML = '';\n",
              "          dataTable['output_type'] = 'display_data';\n",
              "          await google.colab.output.renderOutput(dataTable, element);\n",
              "          const docLink = document.createElement('div');\n",
              "          docLink.innerHTML = docLinkHtml;\n",
              "          element.appendChild(docLink);\n",
              "        }\n",
              "      </script>\n",
              "    </div>\n",
              "  </div>\n",
              "  "
            ],
            "text/plain": [
              "           id  A  B  C  D  E  F  G  H  I  J\n",
              "0  TEST_00000  1  1  1  0  0  1  1  0  1  0\n",
              "1  TEST_00001  0  1  1  0  1  1  1  0  0  0\n",
              "2  TEST_00002  1  1  0  1  1  1  0  1  0  1\n",
              "3  TEST_00003  1  1  0  0  1  1  1  0  1  0\n",
              "4  TEST_00004  1  1  1  0  1  1  1  0  0  0"
            ]
          },
          "execution_count": 33,
          "metadata": {},
          "output_type": "execute_result"
        }
      ],
      "source": [
        "submit.iloc[:,1:] = preds\n",
        "submit.head()"
      ],
      "id": "c7d82083-af35-4ba5-957d-1c7451404eab"
    },
    {
      "cell_type": "code",
      "execution_count": null,
      "metadata": {
        "id": "dd24b98d-1ac7-46df-a833-16d4cb57ac04"
      },
      "outputs": [],
      "source": [
        "submit.to_csv('./baseline_submit.csv', index=False)"
      ],
      "id": "dd24b98d-1ac7-46df-a833-16d4cb57ac04"
    }
  ],
  "metadata": {
    "accelerator": "GPU",
    "colab": {
      "provenance": []
    },
    "gpuClass": "standard",
    "kernelspec": {
      "display_name": "Python 3 (ipykernel)",
      "language": "python",
      "name": "python3"
    },
    "language_info": {
      "codemirror_mode": {
        "name": "ipython",
        "version": 3
      },
      "file_extension": ".py",
      "mimetype": "text/x-python",
      "name": "python",
      "nbconvert_exporter": "python",
      "pygments_lexer": "ipython3",
      "version": "3.8.3"
    },
    "widgets": {
      "application/vnd.jupyter.widget-state+json": {
        "1ccf7737be744636a0a2f99709df6878": {
          "model_module": "@jupyter-widgets/controls",
          "model_module_version": "1.5.0",
          "model_name": "FloatProgressModel",
          "state": {
            "_dom_classes": [],
            "_model_module": "@jupyter-widgets/controls",
            "_model_module_version": "1.5.0",
            "_model_name": "FloatProgressModel",
            "_view_count": null,
            "_view_module": "@jupyter-widgets/controls",
            "_view_module_version": "1.5.0",
            "_view_name": "ProgressView",
            "bar_style": "success",
            "description": "",
            "description_tooltip": null,
            "layout": "IPY_MODEL_40e43f51658241a295302d649a8958c9",
            "max": 12,
            "min": 0,
            "orientation": "horizontal",
            "style": "IPY_MODEL_61b1595e0457480dbd03f9443c7ddc75",
            "value": 12
          }
        },
        "40e43f51658241a295302d649a8958c9": {
          "model_module": "@jupyter-widgets/base",
          "model_module_version": "1.2.0",
          "model_name": "LayoutModel",
          "state": {
            "_model_module": "@jupyter-widgets/base",
            "_model_module_version": "1.2.0",
            "_model_name": "LayoutModel",
            "_view_count": null,
            "_view_module": "@jupyter-widgets/base",
            "_view_module_version": "1.2.0",
            "_view_name": "LayoutView",
            "align_content": null,
            "align_items": null,
            "align_self": null,
            "border": null,
            "bottom": null,
            "display": null,
            "flex": null,
            "flex_flow": null,
            "grid_area": null,
            "grid_auto_columns": null,
            "grid_auto_flow": null,
            "grid_auto_rows": null,
            "grid_column": null,
            "grid_gap": null,
            "grid_row": null,
            "grid_template_areas": null,
            "grid_template_columns": null,
            "grid_template_rows": null,
            "height": null,
            "justify_content": null,
            "justify_items": null,
            "left": null,
            "margin": null,
            "max_height": null,
            "max_width": null,
            "min_height": null,
            "min_width": null,
            "object_fit": null,
            "object_position": null,
            "order": null,
            "overflow": null,
            "overflow_x": null,
            "overflow_y": null,
            "padding": null,
            "right": null,
            "top": null,
            "visibility": null,
            "width": null
          }
        },
        "59af54a5737e4312b9f86eafbd82871b": {
          "model_module": "@jupyter-widgets/controls",
          "model_module_version": "1.5.0",
          "model_name": "HTMLModel",
          "state": {
            "_dom_classes": [],
            "_model_module": "@jupyter-widgets/controls",
            "_model_module_version": "1.5.0",
            "_model_name": "HTMLModel",
            "_view_count": null,
            "_view_module": "@jupyter-widgets/controls",
            "_view_module_version": "1.5.0",
            "_view_name": "HTMLView",
            "description": "",
            "description_tooltip": null,
            "layout": "IPY_MODEL_979dbd17f84b47b882344ae153b98c90",
            "placeholder": "​",
            "style": "IPY_MODEL_ab855014804641bf90c4184c3be392f4",
            "value": "100%"
          }
        },
        "61b1595e0457480dbd03f9443c7ddc75": {
          "model_module": "@jupyter-widgets/controls",
          "model_module_version": "1.5.0",
          "model_name": "ProgressStyleModel",
          "state": {
            "_model_module": "@jupyter-widgets/controls",
            "_model_module_version": "1.5.0",
            "_model_name": "ProgressStyleModel",
            "_view_count": null,
            "_view_module": "@jupyter-widgets/base",
            "_view_module_version": "1.2.0",
            "_view_name": "StyleView",
            "bar_color": null,
            "description_width": ""
          }
        },
        "72619fae569d4edbbeb5b84342d6b5d4": {
          "model_module": "@jupyter-widgets/base",
          "model_module_version": "1.2.0",
          "model_name": "LayoutModel",
          "state": {
            "_model_module": "@jupyter-widgets/base",
            "_model_module_version": "1.2.0",
            "_model_name": "LayoutModel",
            "_view_count": null,
            "_view_module": "@jupyter-widgets/base",
            "_view_module_version": "1.2.0",
            "_view_name": "LayoutView",
            "align_content": null,
            "align_items": null,
            "align_self": null,
            "border": null,
            "bottom": null,
            "display": null,
            "flex": null,
            "flex_flow": null,
            "grid_area": null,
            "grid_auto_columns": null,
            "grid_auto_flow": null,
            "grid_auto_rows": null,
            "grid_column": null,
            "grid_gap": null,
            "grid_row": null,
            "grid_template_areas": null,
            "grid_template_columns": null,
            "grid_template_rows": null,
            "height": null,
            "justify_content": null,
            "justify_items": null,
            "left": null,
            "margin": null,
            "max_height": null,
            "max_width": null,
            "min_height": null,
            "min_width": null,
            "object_fit": null,
            "object_position": null,
            "order": null,
            "overflow": null,
            "overflow_x": null,
            "overflow_y": null,
            "padding": null,
            "right": null,
            "top": null,
            "visibility": null,
            "width": null
          }
        },
        "75397e2972254a0ea490b344fb601f40": {
          "model_module": "@jupyter-widgets/controls",
          "model_module_version": "1.5.0",
          "model_name": "HBoxModel",
          "state": {
            "_dom_classes": [],
            "_model_module": "@jupyter-widgets/controls",
            "_model_module_version": "1.5.0",
            "_model_name": "HBoxModel",
            "_view_count": null,
            "_view_module": "@jupyter-widgets/controls",
            "_view_module_version": "1.5.0",
            "_view_name": "HBoxView",
            "box_style": "",
            "children": [
              "IPY_MODEL_59af54a5737e4312b9f86eafbd82871b",
              "IPY_MODEL_1ccf7737be744636a0a2f99709df6878",
              "IPY_MODEL_a9f77b4e96db47b8b59bfd83b8b5b84a"
            ],
            "layout": "IPY_MODEL_72619fae569d4edbbeb5b84342d6b5d4"
          }
        },
        "979dbd17f84b47b882344ae153b98c90": {
          "model_module": "@jupyter-widgets/base",
          "model_module_version": "1.2.0",
          "model_name": "LayoutModel",
          "state": {
            "_model_module": "@jupyter-widgets/base",
            "_model_module_version": "1.2.0",
            "_model_name": "LayoutModel",
            "_view_count": null,
            "_view_module": "@jupyter-widgets/base",
            "_view_module_version": "1.2.0",
            "_view_name": "LayoutView",
            "align_content": null,
            "align_items": null,
            "align_self": null,
            "border": null,
            "bottom": null,
            "display": null,
            "flex": null,
            "flex_flow": null,
            "grid_area": null,
            "grid_auto_columns": null,
            "grid_auto_flow": null,
            "grid_auto_rows": null,
            "grid_column": null,
            "grid_gap": null,
            "grid_row": null,
            "grid_template_areas": null,
            "grid_template_columns": null,
            "grid_template_rows": null,
            "height": null,
            "justify_content": null,
            "justify_items": null,
            "left": null,
            "margin": null,
            "max_height": null,
            "max_width": null,
            "min_height": null,
            "min_width": null,
            "object_fit": null,
            "object_position": null,
            "order": null,
            "overflow": null,
            "overflow_x": null,
            "overflow_y": null,
            "padding": null,
            "right": null,
            "top": null,
            "visibility": null,
            "width": null
          }
        },
        "a9f77b4e96db47b8b59bfd83b8b5b84a": {
          "model_module": "@jupyter-widgets/controls",
          "model_module_version": "1.5.0",
          "model_name": "HTMLModel",
          "state": {
            "_dom_classes": [],
            "_model_module": "@jupyter-widgets/controls",
            "_model_module_version": "1.5.0",
            "_model_name": "HTMLModel",
            "_view_count": null,
            "_view_module": "@jupyter-widgets/controls",
            "_view_module_version": "1.5.0",
            "_view_name": "HTMLView",
            "description": "",
            "description_tooltip": null,
            "layout": "IPY_MODEL_dc878be478de4448ad7ce600107b7903",
            "placeholder": "​",
            "style": "IPY_MODEL_cf0a09b7d8894fe9ad6a4c556480bf3b",
            "value": " 12/12 [00:11&lt;00:00,  1.08it/s]"
          }
        },
        "ab855014804641bf90c4184c3be392f4": {
          "model_module": "@jupyter-widgets/controls",
          "model_module_version": "1.5.0",
          "model_name": "DescriptionStyleModel",
          "state": {
            "_model_module": "@jupyter-widgets/controls",
            "_model_module_version": "1.5.0",
            "_model_name": "DescriptionStyleModel",
            "_view_count": null,
            "_view_module": "@jupyter-widgets/base",
            "_view_module_version": "1.2.0",
            "_view_name": "StyleView",
            "description_width": ""
          }
        },
        "cf0a09b7d8894fe9ad6a4c556480bf3b": {
          "model_module": "@jupyter-widgets/controls",
          "model_module_version": "1.5.0",
          "model_name": "DescriptionStyleModel",
          "state": {
            "_model_module": "@jupyter-widgets/controls",
            "_model_module_version": "1.5.0",
            "_model_name": "DescriptionStyleModel",
            "_view_count": null,
            "_view_module": "@jupyter-widgets/base",
            "_view_module_version": "1.2.0",
            "_view_name": "StyleView",
            "description_width": ""
          }
        },
        "dc878be478de4448ad7ce600107b7903": {
          "model_module": "@jupyter-widgets/base",
          "model_module_version": "1.2.0",
          "model_name": "LayoutModel",
          "state": {
            "_model_module": "@jupyter-widgets/base",
            "_model_module_version": "1.2.0",
            "_model_name": "LayoutModel",
            "_view_count": null,
            "_view_module": "@jupyter-widgets/base",
            "_view_module_version": "1.2.0",
            "_view_name": "LayoutView",
            "align_content": null,
            "align_items": null,
            "align_self": null,
            "border": null,
            "bottom": null,
            "display": null,
            "flex": null,
            "flex_flow": null,
            "grid_area": null,
            "grid_auto_columns": null,
            "grid_auto_flow": null,
            "grid_auto_rows": null,
            "grid_column": null,
            "grid_gap": null,
            "grid_row": null,
            "grid_template_areas": null,
            "grid_template_columns": null,
            "grid_template_rows": null,
            "height": null,
            "justify_content": null,
            "justify_items": null,
            "left": null,
            "margin": null,
            "max_height": null,
            "max_width": null,
            "min_height": null,
            "min_width": null,
            "object_fit": null,
            "object_position": null,
            "order": null,
            "overflow": null,
            "overflow_x": null,
            "overflow_y": null,
            "padding": null,
            "right": null,
            "top": null,
            "visibility": null,
            "width": null
          }
        },
        "442c3e349bd641d8ad8cd26b6e791704": {
          "model_module": "@jupyter-widgets/controls",
          "model_name": "HBoxModel",
          "model_module_version": "1.5.0",
          "state": {
            "_dom_classes": [],
            "_model_module": "@jupyter-widgets/controls",
            "_model_module_version": "1.5.0",
            "_model_name": "HBoxModel",
            "_view_count": null,
            "_view_module": "@jupyter-widgets/controls",
            "_view_module_version": "1.5.0",
            "_view_name": "HBoxView",
            "box_style": "",
            "children": [
              "IPY_MODEL_06e2821ec1554aeb80d1891518bd75b6",
              "IPY_MODEL_5ec8715c273f4458806a55094bf2c3d2",
              "IPY_MODEL_556fcbf186f44aeab9363ff0e75aff12"
            ],
            "layout": "IPY_MODEL_1d00d7b162ba43b1829a07c3f52f6fb3"
          }
        },
        "06e2821ec1554aeb80d1891518bd75b6": {
          "model_module": "@jupyter-widgets/controls",
          "model_name": "HTMLModel",
          "model_module_version": "1.5.0",
          "state": {
            "_dom_classes": [],
            "_model_module": "@jupyter-widgets/controls",
            "_model_module_version": "1.5.0",
            "_model_name": "HTMLModel",
            "_view_count": null,
            "_view_module": "@jupyter-widgets/controls",
            "_view_module_version": "1.5.0",
            "_view_name": "HTMLView",
            "description": "",
            "description_tooltip": null,
            "layout": "IPY_MODEL_586ac86b11d14d079319e851f7c1331d",
            "placeholder": "​",
            "style": "IPY_MODEL_481ce48e1a384b58a83c1723c4d4fd8a",
            "value": "100%"
          }
        },
        "5ec8715c273f4458806a55094bf2c3d2": {
          "model_module": "@jupyter-widgets/controls",
          "model_name": "FloatProgressModel",
          "model_module_version": "1.5.0",
          "state": {
            "_dom_classes": [],
            "_model_module": "@jupyter-widgets/controls",
            "_model_module_version": "1.5.0",
            "_model_name": "FloatProgressModel",
            "_view_count": null,
            "_view_module": "@jupyter-widgets/controls",
            "_view_module_version": "1.5.0",
            "_view_name": "ProgressView",
            "bar_style": "success",
            "description": "",
            "description_tooltip": null,
            "layout": "IPY_MODEL_feb5a8b0b3724b7d82e70da8ecac0f13",
            "max": 21444401,
            "min": 0,
            "orientation": "horizontal",
            "style": "IPY_MODEL_9437d69fd7fc4b099b3fad973d508acd",
            "value": 21444401
          }
        },
        "556fcbf186f44aeab9363ff0e75aff12": {
          "model_module": "@jupyter-widgets/controls",
          "model_name": "HTMLModel",
          "model_module_version": "1.5.0",
          "state": {
            "_dom_classes": [],
            "_model_module": "@jupyter-widgets/controls",
            "_model_module_version": "1.5.0",
            "_model_name": "HTMLModel",
            "_view_count": null,
            "_view_module": "@jupyter-widgets/controls",
            "_view_module_version": "1.5.0",
            "_view_name": "HTMLView",
            "description": "",
            "description_tooltip": null,
            "layout": "IPY_MODEL_2c5d6cd473b94e03b59d42c382f033ca",
            "placeholder": "​",
            "style": "IPY_MODEL_984a3f4631b74e2bbae8cff5f29cd4e4",
            "value": " 20.5M/20.5M [00:00&lt;00:00, 28.7MB/s]"
          }
        },
        "1d00d7b162ba43b1829a07c3f52f6fb3": {
          "model_module": "@jupyter-widgets/base",
          "model_name": "LayoutModel",
          "model_module_version": "1.2.0",
          "state": {
            "_model_module": "@jupyter-widgets/base",
            "_model_module_version": "1.2.0",
            "_model_name": "LayoutModel",
            "_view_count": null,
            "_view_module": "@jupyter-widgets/base",
            "_view_module_version": "1.2.0",
            "_view_name": "LayoutView",
            "align_content": null,
            "align_items": null,
            "align_self": null,
            "border": null,
            "bottom": null,
            "display": null,
            "flex": null,
            "flex_flow": null,
            "grid_area": null,
            "grid_auto_columns": null,
            "grid_auto_flow": null,
            "grid_auto_rows": null,
            "grid_column": null,
            "grid_gap": null,
            "grid_row": null,
            "grid_template_areas": null,
            "grid_template_columns": null,
            "grid_template_rows": null,
            "height": null,
            "justify_content": null,
            "justify_items": null,
            "left": null,
            "margin": null,
            "max_height": null,
            "max_width": null,
            "min_height": null,
            "min_width": null,
            "object_fit": null,
            "object_position": null,
            "order": null,
            "overflow": null,
            "overflow_x": null,
            "overflow_y": null,
            "padding": null,
            "right": null,
            "top": null,
            "visibility": null,
            "width": null
          }
        },
        "586ac86b11d14d079319e851f7c1331d": {
          "model_module": "@jupyter-widgets/base",
          "model_name": "LayoutModel",
          "model_module_version": "1.2.0",
          "state": {
            "_model_module": "@jupyter-widgets/base",
            "_model_module_version": "1.2.0",
            "_model_name": "LayoutModel",
            "_view_count": null,
            "_view_module": "@jupyter-widgets/base",
            "_view_module_version": "1.2.0",
            "_view_name": "LayoutView",
            "align_content": null,
            "align_items": null,
            "align_self": null,
            "border": null,
            "bottom": null,
            "display": null,
            "flex": null,
            "flex_flow": null,
            "grid_area": null,
            "grid_auto_columns": null,
            "grid_auto_flow": null,
            "grid_auto_rows": null,
            "grid_column": null,
            "grid_gap": null,
            "grid_row": null,
            "grid_template_areas": null,
            "grid_template_columns": null,
            "grid_template_rows": null,
            "height": null,
            "justify_content": null,
            "justify_items": null,
            "left": null,
            "margin": null,
            "max_height": null,
            "max_width": null,
            "min_height": null,
            "min_width": null,
            "object_fit": null,
            "object_position": null,
            "order": null,
            "overflow": null,
            "overflow_x": null,
            "overflow_y": null,
            "padding": null,
            "right": null,
            "top": null,
            "visibility": null,
            "width": null
          }
        },
        "481ce48e1a384b58a83c1723c4d4fd8a": {
          "model_module": "@jupyter-widgets/controls",
          "model_name": "DescriptionStyleModel",
          "model_module_version": "1.5.0",
          "state": {
            "_model_module": "@jupyter-widgets/controls",
            "_model_module_version": "1.5.0",
            "_model_name": "DescriptionStyleModel",
            "_view_count": null,
            "_view_module": "@jupyter-widgets/base",
            "_view_module_version": "1.2.0",
            "_view_name": "StyleView",
            "description_width": ""
          }
        },
        "feb5a8b0b3724b7d82e70da8ecac0f13": {
          "model_module": "@jupyter-widgets/base",
          "model_name": "LayoutModel",
          "model_module_version": "1.2.0",
          "state": {
            "_model_module": "@jupyter-widgets/base",
            "_model_module_version": "1.2.0",
            "_model_name": "LayoutModel",
            "_view_count": null,
            "_view_module": "@jupyter-widgets/base",
            "_view_module_version": "1.2.0",
            "_view_name": "LayoutView",
            "align_content": null,
            "align_items": null,
            "align_self": null,
            "border": null,
            "bottom": null,
            "display": null,
            "flex": null,
            "flex_flow": null,
            "grid_area": null,
            "grid_auto_columns": null,
            "grid_auto_flow": null,
            "grid_auto_rows": null,
            "grid_column": null,
            "grid_gap": null,
            "grid_row": null,
            "grid_template_areas": null,
            "grid_template_columns": null,
            "grid_template_rows": null,
            "height": null,
            "justify_content": null,
            "justify_items": null,
            "left": null,
            "margin": null,
            "max_height": null,
            "max_width": null,
            "min_height": null,
            "min_width": null,
            "object_fit": null,
            "object_position": null,
            "order": null,
            "overflow": null,
            "overflow_x": null,
            "overflow_y": null,
            "padding": null,
            "right": null,
            "top": null,
            "visibility": null,
            "width": null
          }
        },
        "9437d69fd7fc4b099b3fad973d508acd": {
          "model_module": "@jupyter-widgets/controls",
          "model_name": "ProgressStyleModel",
          "model_module_version": "1.5.0",
          "state": {
            "_model_module": "@jupyter-widgets/controls",
            "_model_module_version": "1.5.0",
            "_model_name": "ProgressStyleModel",
            "_view_count": null,
            "_view_module": "@jupyter-widgets/base",
            "_view_module_version": "1.2.0",
            "_view_name": "StyleView",
            "bar_color": null,
            "description_width": ""
          }
        },
        "2c5d6cd473b94e03b59d42c382f033ca": {
          "model_module": "@jupyter-widgets/base",
          "model_name": "LayoutModel",
          "model_module_version": "1.2.0",
          "state": {
            "_model_module": "@jupyter-widgets/base",
            "_model_module_version": "1.2.0",
            "_model_name": "LayoutModel",
            "_view_count": null,
            "_view_module": "@jupyter-widgets/base",
            "_view_module_version": "1.2.0",
            "_view_name": "LayoutView",
            "align_content": null,
            "align_items": null,
            "align_self": null,
            "border": null,
            "bottom": null,
            "display": null,
            "flex": null,
            "flex_flow": null,
            "grid_area": null,
            "grid_auto_columns": null,
            "grid_auto_flow": null,
            "grid_auto_rows": null,
            "grid_column": null,
            "grid_gap": null,
            "grid_row": null,
            "grid_template_areas": null,
            "grid_template_columns": null,
            "grid_template_rows": null,
            "height": null,
            "justify_content": null,
            "justify_items": null,
            "left": null,
            "margin": null,
            "max_height": null,
            "max_width": null,
            "min_height": null,
            "min_width": null,
            "object_fit": null,
            "object_position": null,
            "order": null,
            "overflow": null,
            "overflow_x": null,
            "overflow_y": null,
            "padding": null,
            "right": null,
            "top": null,
            "visibility": null,
            "width": null
          }
        },
        "984a3f4631b74e2bbae8cff5f29cd4e4": {
          "model_module": "@jupyter-widgets/controls",
          "model_name": "DescriptionStyleModel",
          "model_module_version": "1.5.0",
          "state": {
            "_model_module": "@jupyter-widgets/controls",
            "_model_module_version": "1.5.0",
            "_model_name": "DescriptionStyleModel",
            "_view_count": null,
            "_view_module": "@jupyter-widgets/base",
            "_view_module_version": "1.2.0",
            "_view_name": "StyleView",
            "description_width": ""
          }
        },
        "a2633a8e30424eb690f2fd4a792ea92a": {
          "model_module": "@jupyter-widgets/controls",
          "model_name": "HBoxModel",
          "model_module_version": "1.5.0",
          "state": {
            "_dom_classes": [],
            "_model_module": "@jupyter-widgets/controls",
            "_model_module_version": "1.5.0",
            "_model_name": "HBoxModel",
            "_view_count": null,
            "_view_module": "@jupyter-widgets/controls",
            "_view_module_version": "1.5.0",
            "_view_name": "HBoxView",
            "box_style": "",
            "children": [
              "IPY_MODEL_88dd7a519e4a433dbbb56d2918ece4ee",
              "IPY_MODEL_1cdd527b1f2a4d5ebf392392a14a26af",
              "IPY_MODEL_9f7ff428eb87418a819b173d2b661401"
            ],
            "layout": "IPY_MODEL_388334d83a39460c8ef009847fbcaabf"
          }
        },
        "88dd7a519e4a433dbbb56d2918ece4ee": {
          "model_module": "@jupyter-widgets/controls",
          "model_name": "HTMLModel",
          "model_module_version": "1.5.0",
          "state": {
            "_dom_classes": [],
            "_model_module": "@jupyter-widgets/controls",
            "_model_module_version": "1.5.0",
            "_model_name": "HTMLModel",
            "_view_count": null,
            "_view_module": "@jupyter-widgets/controls",
            "_view_module_version": "1.5.0",
            "_view_name": "HTMLView",
            "description": "",
            "description_tooltip": null,
            "layout": "IPY_MODEL_f85980c3de4240389cf569163cb72b0f",
            "placeholder": "​",
            "style": "IPY_MODEL_4c7bf0e7aef145a3bcefdc7968e2adad",
            "value": "  7%"
          }
        },
        "1cdd527b1f2a4d5ebf392392a14a26af": {
          "model_module": "@jupyter-widgets/controls",
          "model_name": "FloatProgressModel",
          "model_module_version": "1.5.0",
          "state": {
            "_dom_classes": [],
            "_model_module": "@jupyter-widgets/controls",
            "_model_module_version": "1.5.0",
            "_model_name": "FloatProgressModel",
            "_view_count": null,
            "_view_module": "@jupyter-widgets/controls",
            "_view_module_version": "1.5.0",
            "_view_name": "ProgressView",
            "bar_style": "",
            "description": "",
            "description_tooltip": null,
            "layout": "IPY_MODEL_edad3385ef8342819f4a4b1de4089403",
            "max": 207,
            "min": 0,
            "orientation": "horizontal",
            "style": "IPY_MODEL_4099b4786fb14c6c8e85bdbe6ebf47f0",
            "value": 15
          }
        },
        "9f7ff428eb87418a819b173d2b661401": {
          "model_module": "@jupyter-widgets/controls",
          "model_name": "HTMLModel",
          "model_module_version": "1.5.0",
          "state": {
            "_dom_classes": [],
            "_model_module": "@jupyter-widgets/controls",
            "_model_module_version": "1.5.0",
            "_model_name": "HTMLModel",
            "_view_count": null,
            "_view_module": "@jupyter-widgets/controls",
            "_view_module_version": "1.5.0",
            "_view_name": "HTMLView",
            "description": "",
            "description_tooltip": null,
            "layout": "IPY_MODEL_1f262636f47649098eb08d7f1bd85316",
            "placeholder": "​",
            "style": "IPY_MODEL_04cab41e90b347b0b9767f097e8b49a8",
            "value": " 15/207 [11:36&lt;2:12:34, 41.43s/it]"
          }
        },
        "388334d83a39460c8ef009847fbcaabf": {
          "model_module": "@jupyter-widgets/base",
          "model_name": "LayoutModel",
          "model_module_version": "1.2.0",
          "state": {
            "_model_module": "@jupyter-widgets/base",
            "_model_module_version": "1.2.0",
            "_model_name": "LayoutModel",
            "_view_count": null,
            "_view_module": "@jupyter-widgets/base",
            "_view_module_version": "1.2.0",
            "_view_name": "LayoutView",
            "align_content": null,
            "align_items": null,
            "align_self": null,
            "border": null,
            "bottom": null,
            "display": null,
            "flex": null,
            "flex_flow": null,
            "grid_area": null,
            "grid_auto_columns": null,
            "grid_auto_flow": null,
            "grid_auto_rows": null,
            "grid_column": null,
            "grid_gap": null,
            "grid_row": null,
            "grid_template_areas": null,
            "grid_template_columns": null,
            "grid_template_rows": null,
            "height": null,
            "justify_content": null,
            "justify_items": null,
            "left": null,
            "margin": null,
            "max_height": null,
            "max_width": null,
            "min_height": null,
            "min_width": null,
            "object_fit": null,
            "object_position": null,
            "order": null,
            "overflow": null,
            "overflow_x": null,
            "overflow_y": null,
            "padding": null,
            "right": null,
            "top": null,
            "visibility": null,
            "width": null
          }
        },
        "f85980c3de4240389cf569163cb72b0f": {
          "model_module": "@jupyter-widgets/base",
          "model_name": "LayoutModel",
          "model_module_version": "1.2.0",
          "state": {
            "_model_module": "@jupyter-widgets/base",
            "_model_module_version": "1.2.0",
            "_model_name": "LayoutModel",
            "_view_count": null,
            "_view_module": "@jupyter-widgets/base",
            "_view_module_version": "1.2.0",
            "_view_name": "LayoutView",
            "align_content": null,
            "align_items": null,
            "align_self": null,
            "border": null,
            "bottom": null,
            "display": null,
            "flex": null,
            "flex_flow": null,
            "grid_area": null,
            "grid_auto_columns": null,
            "grid_auto_flow": null,
            "grid_auto_rows": null,
            "grid_column": null,
            "grid_gap": null,
            "grid_row": null,
            "grid_template_areas": null,
            "grid_template_columns": null,
            "grid_template_rows": null,
            "height": null,
            "justify_content": null,
            "justify_items": null,
            "left": null,
            "margin": null,
            "max_height": null,
            "max_width": null,
            "min_height": null,
            "min_width": null,
            "object_fit": null,
            "object_position": null,
            "order": null,
            "overflow": null,
            "overflow_x": null,
            "overflow_y": null,
            "padding": null,
            "right": null,
            "top": null,
            "visibility": null,
            "width": null
          }
        },
        "4c7bf0e7aef145a3bcefdc7968e2adad": {
          "model_module": "@jupyter-widgets/controls",
          "model_name": "DescriptionStyleModel",
          "model_module_version": "1.5.0",
          "state": {
            "_model_module": "@jupyter-widgets/controls",
            "_model_module_version": "1.5.0",
            "_model_name": "DescriptionStyleModel",
            "_view_count": null,
            "_view_module": "@jupyter-widgets/base",
            "_view_module_version": "1.2.0",
            "_view_name": "StyleView",
            "description_width": ""
          }
        },
        "edad3385ef8342819f4a4b1de4089403": {
          "model_module": "@jupyter-widgets/base",
          "model_name": "LayoutModel",
          "model_module_version": "1.2.0",
          "state": {
            "_model_module": "@jupyter-widgets/base",
            "_model_module_version": "1.2.0",
            "_model_name": "LayoutModel",
            "_view_count": null,
            "_view_module": "@jupyter-widgets/base",
            "_view_module_version": "1.2.0",
            "_view_name": "LayoutView",
            "align_content": null,
            "align_items": null,
            "align_self": null,
            "border": null,
            "bottom": null,
            "display": null,
            "flex": null,
            "flex_flow": null,
            "grid_area": null,
            "grid_auto_columns": null,
            "grid_auto_flow": null,
            "grid_auto_rows": null,
            "grid_column": null,
            "grid_gap": null,
            "grid_row": null,
            "grid_template_areas": null,
            "grid_template_columns": null,
            "grid_template_rows": null,
            "height": null,
            "justify_content": null,
            "justify_items": null,
            "left": null,
            "margin": null,
            "max_height": null,
            "max_width": null,
            "min_height": null,
            "min_width": null,
            "object_fit": null,
            "object_position": null,
            "order": null,
            "overflow": null,
            "overflow_x": null,
            "overflow_y": null,
            "padding": null,
            "right": null,
            "top": null,
            "visibility": null,
            "width": null
          }
        },
        "4099b4786fb14c6c8e85bdbe6ebf47f0": {
          "model_module": "@jupyter-widgets/controls",
          "model_name": "ProgressStyleModel",
          "model_module_version": "1.5.0",
          "state": {
            "_model_module": "@jupyter-widgets/controls",
            "_model_module_version": "1.5.0",
            "_model_name": "ProgressStyleModel",
            "_view_count": null,
            "_view_module": "@jupyter-widgets/base",
            "_view_module_version": "1.2.0",
            "_view_name": "StyleView",
            "bar_color": null,
            "description_width": ""
          }
        },
        "1f262636f47649098eb08d7f1bd85316": {
          "model_module": "@jupyter-widgets/base",
          "model_name": "LayoutModel",
          "model_module_version": "1.2.0",
          "state": {
            "_model_module": "@jupyter-widgets/base",
            "_model_module_version": "1.2.0",
            "_model_name": "LayoutModel",
            "_view_count": null,
            "_view_module": "@jupyter-widgets/base",
            "_view_module_version": "1.2.0",
            "_view_name": "LayoutView",
            "align_content": null,
            "align_items": null,
            "align_self": null,
            "border": null,
            "bottom": null,
            "display": null,
            "flex": null,
            "flex_flow": null,
            "grid_area": null,
            "grid_auto_columns": null,
            "grid_auto_flow": null,
            "grid_auto_rows": null,
            "grid_column": null,
            "grid_gap": null,
            "grid_row": null,
            "grid_template_areas": null,
            "grid_template_columns": null,
            "grid_template_rows": null,
            "height": null,
            "justify_content": null,
            "justify_items": null,
            "left": null,
            "margin": null,
            "max_height": null,
            "max_width": null,
            "min_height": null,
            "min_width": null,
            "object_fit": null,
            "object_position": null,
            "order": null,
            "overflow": null,
            "overflow_x": null,
            "overflow_y": null,
            "padding": null,
            "right": null,
            "top": null,
            "visibility": null,
            "width": null
          }
        },
        "04cab41e90b347b0b9767f097e8b49a8": {
          "model_module": "@jupyter-widgets/controls",
          "model_name": "DescriptionStyleModel",
          "model_module_version": "1.5.0",
          "state": {
            "_model_module": "@jupyter-widgets/controls",
            "_model_module_version": "1.5.0",
            "_model_name": "DescriptionStyleModel",
            "_view_count": null,
            "_view_module": "@jupyter-widgets/base",
            "_view_module_version": "1.2.0",
            "_view_name": "StyleView",
            "description_width": ""
          }
        }
      }
    }
  },
  "nbformat": 4,
  "nbformat_minor": 5
}