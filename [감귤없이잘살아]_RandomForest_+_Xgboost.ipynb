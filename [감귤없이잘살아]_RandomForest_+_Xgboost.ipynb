{
  "cells": [
    {
      "cell_type": "markdown",
      "source": [
        "## \"감귤없이잘살아\" 팀 최종 코드 파일입니다. 감사합니다!\n",
        "\n",
        "### 1. 사용한 피쳐 \n",
        "  - [period 1~ 10 새순] : 새순 9일의 평균에 대한 컬럼\n",
        "  - [새순 max], [새순 min] 컬럼\n",
        "  - [새순 diff] 컬럼= 새순 max - 새순 min\n",
        "  - [나무 부피] 컬럼 = 수고 x 수관폭평균\n",
        "\n",
        "### 2. 사용한 모델\n",
        "  - RandomForest 그리드 서치\n",
        "  - Xgboost 그리드 서치\n",
        "  - 두 모델의 예측값 평균으로 최종 예측 결과 도출\n"
      ],
      "metadata": {
        "id": "f0UqGz1_4P8s"
      },
      "id": "f0UqGz1_4P8s"
    },
    {
      "cell_type": "markdown",
      "metadata": {
        "id": "bcec18d6-e27d-4677-a580-d32ad364d1df"
      },
      "source": [
        "#1. Import"
      ],
      "id": "bcec18d6-e27d-4677-a580-d32ad364d1df"
    },
    {
      "cell_type": "code",
      "execution_count": 1,
      "metadata": {
        "colab": {
          "base_uri": "https://localhost:8080/"
        },
        "id": "GCPHNYOuEoZx",
        "outputId": "76170aed-0f7a-4ae2-f19d-d9b0cccf4cc1"
      },
      "outputs": [
        {
          "output_type": "stream",
          "name": "stdout",
          "text": [
            "Mounted at /content/drive\n"
          ]
        }
      ],
      "source": [
        "from google.colab import drive\n",
        "drive.mount('/content/drive')"
      ],
      "id": "GCPHNYOuEoZx"
    },
    {
      "cell_type": "code",
      "execution_count": 2,
      "metadata": {
        "id": "8114a40c-6068-4305-8e69-3a0a83f3f803"
      },
      "outputs": [],
      "source": [
        "import pandas as pd\n",
        "import numpy as np\n",
        "from tqdm import tqdm"
      ],
      "id": "8114a40c-6068-4305-8e69-3a0a83f3f803"
    },
    {
      "cell_type": "code",
      "source": [
        "!sudo apt-get install -y fonts-nanum\n",
        "!sudo fc-cache -fv\n",
        "!rm ~/.cache/matplotlib -rf"
      ],
      "metadata": {
        "id": "bWJS0ADJZzak",
        "colab": {
          "base_uri": "https://localhost:8080/"
        },
        "outputId": "50f3cff5-431a-4a05-d334-ef6e0ccd46c5"
      },
      "id": "bWJS0ADJZzak",
      "execution_count": 3,
      "outputs": [
        {
          "output_type": "stream",
          "name": "stdout",
          "text": [
            "Reading package lists... Done\n",
            "Building dependency tree       \n",
            "Reading state information... Done\n",
            "The following package was automatically installed and is no longer required:\n",
            "  libnvidia-common-460\n",
            "Use 'sudo apt autoremove' to remove it.\n",
            "The following NEW packages will be installed:\n",
            "  fonts-nanum\n",
            "0 upgraded, 1 newly installed, 0 to remove and 20 not upgraded.\n",
            "Need to get 9,604 kB of archives.\n",
            "After this operation, 29.5 MB of additional disk space will be used.\n",
            "Get:1 http://archive.ubuntu.com/ubuntu bionic/universe amd64 fonts-nanum all 20170925-1 [9,604 kB]\n",
            "Fetched 9,604 kB in 0s (36.7 MB/s)\n",
            "debconf: unable to initialize frontend: Dialog\n",
            "debconf: (No usable dialog-like program is installed, so the dialog based frontend cannot be used. at /usr/share/perl5/Debconf/FrontEnd/Dialog.pm line 76, <> line 1.)\n",
            "debconf: falling back to frontend: Readline\n",
            "debconf: unable to initialize frontend: Readline\n",
            "debconf: (This frontend requires a controlling tty.)\n",
            "debconf: falling back to frontend: Teletype\n",
            "dpkg-preconfigure: unable to re-open stdin: \n",
            "Selecting previously unselected package fonts-nanum.\n",
            "(Reading database ... 124013 files and directories currently installed.)\n",
            "Preparing to unpack .../fonts-nanum_20170925-1_all.deb ...\n",
            "Unpacking fonts-nanum (20170925-1) ...\n",
            "Setting up fonts-nanum (20170925-1) ...\n",
            "Processing triggers for fontconfig (2.12.6-0ubuntu2) ...\n",
            "/usr/share/fonts: caching, new cache contents: 0 fonts, 1 dirs\n",
            "/usr/share/fonts/truetype: caching, new cache contents: 0 fonts, 3 dirs\n",
            "/usr/share/fonts/truetype/humor-sans: caching, new cache contents: 1 fonts, 0 dirs\n",
            "/usr/share/fonts/truetype/liberation: caching, new cache contents: 16 fonts, 0 dirs\n",
            "/usr/share/fonts/truetype/nanum: caching, new cache contents: 10 fonts, 0 dirs\n",
            "/usr/local/share/fonts: caching, new cache contents: 0 fonts, 0 dirs\n",
            "/root/.local/share/fonts: skipping, no such directory\n",
            "/root/.fonts: skipping, no such directory\n",
            "/var/cache/fontconfig: cleaning cache directory\n",
            "/root/.cache/fontconfig: not cleaning non-existent cache directory\n",
            "/root/.fontconfig: not cleaning non-existent cache directory\n",
            "fc-cache: succeeded\n"
          ]
        }
      ]
    },
    {
      "cell_type": "markdown",
      "source": [
        "#2. 파생변수 생성"
      ],
      "metadata": {
        "id": "iEaH4oXRLh29"
      },
      "id": "iEaH4oXRLh29"
    },
    {
      "cell_type": "markdown",
      "source": [
        "### NMAE 평가산식 코드"
      ],
      "metadata": {
        "id": "kq6zXZzLtXCx"
      },
      "id": "kq6zXZzLtXCx"
    },
    {
      "cell_type": "code",
      "source": [
        "def NMAE(true, pred):\n",
        "    mae = np.mean(np.abs(true-pred))\n",
        "    score = mae / np.mean(np.abs(true))\n",
        "    return score"
      ],
      "metadata": {
        "id": "qNiIrF8FLjjB"
      },
      "id": "qNiIrF8FLjjB",
      "execution_count": 4,
      "outputs": []
    },
    {
      "cell_type": "markdown",
      "source": [
        "### 파생변수 생성\n",
        "- period_i_새순 : 9일의 새순 평균 컬럼\n",
        "- 새순 diff : 새순 max 컬럼 - 새순 min 컬럼\n",
        "- 새순 max 컬럼\n",
        "- 새순 min 컬럼\n",
        "- 나무 부피 컬럼 : 수고(m) x 수관폭평균\n",
        "- 엽록소 컬럼의 경우 target 값과의 연관성이 부족하다 생각해 all drop"
      ],
      "metadata": {
        "id": "dZYDAQk8td51"
      },
      "id": "dZYDAQk8td51"
    },
    {
      "cell_type": "code",
      "source": [
        "def reduce_col3(df,trainortest):\n",
        "    sprout=df.iloc[:,-178:-89] # 새순\n",
        "    chlor=df.iloc[:,-89:] # 엽록소(chlorophyll)\n",
        "\n",
        "    # 9일씩 묶어서 평균\n",
        "    sarr=np.array(sprout.columns)\n",
        "    sarr=np.append(sarr,'d').reshape(10,9)\n",
        "    sdate_dic={\n",
        "        'period_1 새순':sarr[0],\n",
        "        'period_2 새순':sarr[1],\n",
        "        'period_3 새순':sarr[2],\n",
        "        'period_4 새순':sarr[3],\n",
        "        'period_5 새순':sarr[4],\n",
        "        'period_6 새순':sarr[5],\n",
        "        'period_7 새순':sarr[6],\n",
        "        'period_8 새순':sarr[7],\n",
        "        'period_9 새순':sarr[8],\n",
        "        'period_10 새순':sarr[9][:-1]\n",
        "    }\n",
        "\n",
        "    carr=np.array(chlor.columns)\n",
        "    carr=np.append(carr,'d').reshape(10,9)\n",
        "    cdate_dic={\n",
        "        'period_1 엽록소':carr[0],\n",
        "        'period_2 엽록소':carr[1],\n",
        "        'period_3 엽록소':carr[2],\n",
        "        'period_4 엽록소':carr[3],\n",
        "        'period_5 엽록소':carr[4],\n",
        "        'period_6 엽록소':carr[5],\n",
        "        'period_7 엽록소':carr[6],\n",
        "        'period_8 엽록소':carr[7],\n",
        "        'period_9 엽록소':carr[8],\n",
        "        'period_10 엽록소':carr[9][:-1]\n",
        "    }\n",
        "\n",
        "    new=pd.DataFrame()\n",
        "    for period,dates in sdate_dic.items():\n",
        "        new[period]=sprout[dates].mean(axis=1)\n",
        "\n",
        "    #for period,dates in cdate_dic.items():\n",
        "    #    new[period]=chlor[dates].mean(axis=1)\n",
        "    ## 엽록소 걍 버림\n",
        "\n",
        "    new['새순diff']=df['2022-09-01 새순']-df['2022-11-28 새순']\n",
        "    new['새순max']=df['2022-09-01 새순']\n",
        "    new['새순min']=df['2022-11-28 새순']\n",
        "\n",
        "    # 다른 칼럼들도 예쁘게\n",
        "    ## ex) 착과량(int) -> 착과량\n",
        "\n",
        "    if trainortest=='train' :\n",
        "        ## train은 착과량 포함\n",
        "        new['착과량']=df['착과량(int)']\n",
        "\n",
        "    new['나무부피']=df['수고(m)']*df['수관폭평균']\n",
        "    return new"
      ],
      "metadata": {
        "id": "zvXIBTuLLkHg"
      },
      "id": "zvXIBTuLLkHg",
      "execution_count": 5,
      "outputs": []
    },
    {
      "cell_type": "markdown",
      "metadata": {
        "id": "61e94f48-388f-4657-8678-3f4e77ea5612"
      },
      "source": [
        "#3. 데이터 불러오기"
      ],
      "id": "61e94f48-388f-4657-8678-3f4e77ea5612"
    },
    {
      "cell_type": "code",
      "execution_count": 7,
      "metadata": {
        "colab": {
          "base_uri": "https://localhost:8080/"
        },
        "id": "xs06_dVNFZp3",
        "outputId": "c5ed11fd-10a2-46da-dacc-533cb3fd560f"
      },
      "outputs": [
        {
          "output_type": "stream",
          "name": "stdout",
          "text": [
            "/content/drive/.shortcut-targets-by-id/1-EzLt_gX0CI4hJP3C7mM2Fn5AZVbAmPI/2022_상추의 생육 환경 생성 AI 경진대회/2022감귤\n"
          ]
        }
      ],
      "source": [
        "#기본 경로 지정\n",
        "%cd /content/drive/MyDrive/2022_상추의 생육 환경 생성 AI 경진대회/2022감귤"
      ],
      "id": "xs06_dVNFZp3"
    },
    {
      "cell_type": "code",
      "execution_count": 8,
      "metadata": {
        "id": "8e6f3ea2-fbcf-4ba4-a04a-c053b6036b2f"
      },
      "outputs": [],
      "source": [
        "#train, test 셋 불러오기\n",
        "train = pd.read_csv('train.csv')\n",
        "test = pd.read_csv('test.csv')"
      ],
      "id": "8e6f3ea2-fbcf-4ba4-a04a-c053b6036b2f"
    },
    {
      "cell_type": "code",
      "source": [
        "# 앞에서 만든 함수 적용 및 X, y split\n",
        "X=reduce_col3(train,'train').drop('착과량',axis=1)\n",
        "y=reduce_col3(train,'train')['착과량']"
      ],
      "metadata": {
        "id": "8-d-eOLnLsZv"
      },
      "id": "8-d-eOLnLsZv",
      "execution_count": 11,
      "outputs": []
    },
    {
      "cell_type": "code",
      "source": [
        "X.columns"
      ],
      "metadata": {
        "colab": {
          "base_uri": "https://localhost:8080/"
        },
        "id": "UBGoQCflLxgl",
        "outputId": "c75da2d9-2597-43ff-e2b5-ad35dc25c6dc"
      },
      "id": "UBGoQCflLxgl",
      "execution_count": 12,
      "outputs": [
        {
          "output_type": "execute_result",
          "data": {
            "text/plain": [
              "Index(['period_1 새순', 'period_2 새순', 'period_3 새순', 'period_4 새순',\n",
              "       'period_5 새순', 'period_6 새순', 'period_7 새순', 'period_8 새순',\n",
              "       'period_9 새순', 'period_10 새순', '새순diff', '새순max', '새순min', '나무부피'],\n",
              "      dtype='object')"
            ]
          },
          "metadata": {},
          "execution_count": 12
        }
      ]
    },
    {
      "cell_type": "markdown",
      "source": [
        "#4-1. 모델링 - RandomForestRegressor()"
      ],
      "metadata": {
        "id": "ATe6oPy_q2QP"
      },
      "id": "ATe6oPy_q2QP"
    },
    {
      "cell_type": "markdown",
      "source": [
        "## 그리드 서치"
      ],
      "metadata": {
        "id": "9cUYIfObL6I9"
      },
      "id": "9cUYIfObL6I9"
    },
    {
      "cell_type": "code",
      "source": [
        "from sklearn.model_selection import ShuffleSplit\n",
        "from sklearn.model_selection import GridSearchCV\n",
        "from sklearn.ensemble import RandomForestRegressor\n",
        "from sklearn.metrics import accuracy_score\n",
        "from sklearn.model_selection import KFold\n",
        "import numpy as np\n",
        "from sklearn.model_selection import cross_val_score, cross_validate\n",
        "import time\n",
        "\n",
        "#시간 체크용\n",
        "start = time.time()     \n",
        "\n",
        "rf = RandomForestRegressor(n_jobs = -1, random_state = 0)\n",
        "param_grid = {\n",
        "        'max_depth':  [3, 4, 5, 6, 7],\n",
        "        'bootstrap': [True, False],\n",
        "        'max_features': ['auto', 'sqrt', 'log2'],\n",
        "        'criterion': ['squared_error', 'absolute_error', 'friedman_mse', 'poisson']\n",
        "    }\n",
        "\n",
        "ss=ShuffleSplit(test_size=0.3,random_state=0)\n",
        "grid_rf_cv=GridSearchCV(rf,\n",
        "                     return_train_score=True,\n",
        "                       param_grid=param_grid,\n",
        "                       cv=ss,\n",
        "                       verbose=0,\n",
        "                       scoring='neg_mean_absolute_error',\n",
        "                       n_jobs=-1)\n",
        "\n",
        "grid_rf_cv.fit(X,y)\n",
        "\n",
        "end=time.time()\n",
        "print('수행 시간: {0:.3f}'.format(end - start))\n",
        "print('최적의 매개변수 조합: ', grid_rf_cv.best_params_)\n",
        "print('최고의 교차 검증 점수: ', grid_rf_cv.best_score_)"
      ],
      "metadata": {
        "colab": {
          "base_uri": "https://localhost:8080/"
        },
        "id": "Rqb4LA1DL7EG",
        "outputId": "b5ecdd43-be26-4cc7-871a-1cf3ed024d12"
      },
      "id": "Rqb4LA1DL7EG",
      "execution_count": 13,
      "outputs": [
        {
          "output_type": "stream",
          "name": "stdout",
          "text": [
            "수행 시간: 1361.428\n",
            "최적의 매개변수 조합:  {'bootstrap': False, 'criterion': 'friedman_mse', 'max_depth': 6, 'max_features': 'sqrt'}\n",
            "최고의 교차 검증 점수:  -30.18017600138905\n"
          ]
        }
      ]
    },
    {
      "cell_type": "markdown",
      "metadata": {
        "id": "IQenFfx1QlVd"
      },
      "source": [
        "## 최적모델을 best_rf 에 저장 후 NMAE 확인"
      ],
      "id": "IQenFfx1QlVd"
    },
    {
      "cell_type": "code",
      "execution_count": 14,
      "metadata": {
        "id": "WrL2BWLXypa7",
        "colab": {
          "base_uri": "https://localhost:8080/"
        },
        "outputId": "de611a7a-f647-4065-e00d-2344e688ab90"
      },
      "outputs": [
        {
          "output_type": "stream",
          "name": "stdout",
          "text": [
            "NMAE : 0.06610512938333356\n"
          ]
        }
      ],
      "source": [
        "best_rf = grid_rf_cv.best_estimator_\n",
        "y_pred_rf = best_rf.predict(X)\n",
        "print(f'NMAE : {NMAE(y,y_pred_rf)}')"
      ],
      "id": "WrL2BWLXypa7"
    },
    {
      "cell_type": "markdown",
      "source": [
        "## test data로 예측"
      ],
      "metadata": {
        "id": "-sj4QL430gr8"
      },
      "id": "-sj4QL430gr8"
    },
    {
      "cell_type": "code",
      "source": [
        "X_test=reduce_col3(test,'test')\n",
        "test_pred_rf = best_rf.predict(X_test)"
      ],
      "metadata": {
        "id": "f1UB3-OBNWLA"
      },
      "id": "f1UB3-OBNWLA",
      "execution_count": 15,
      "outputs": []
    },
    {
      "cell_type": "code",
      "source": [
        "test_pred_rf"
      ],
      "metadata": {
        "colab": {
          "base_uri": "https://localhost:8080/"
        },
        "id": "tn_bcO5F2rrB",
        "outputId": "506f5f28-25fb-4859-8b1b-d664da8e2191"
      },
      "id": "tn_bcO5F2rrB",
      "execution_count": 23,
      "outputs": [
        {
          "output_type": "execute_result",
          "data": {
            "text/plain": [
              "array([247.50967039, 753.26316059, 151.29249931, ..., 365.18173387,\n",
              "       238.79729648,  95.82418773])"
            ]
          },
          "metadata": {},
          "execution_count": 23
        }
      ]
    },
    {
      "cell_type": "markdown",
      "source": [
        "# 4-2. 모델링 - XGboostRegressor()"
      ],
      "metadata": {
        "id": "b73X8yqSrz7W"
      },
      "id": "b73X8yqSrz7W"
    },
    {
      "cell_type": "code",
      "source": [
        "import xgboost as xgb"
      ],
      "metadata": {
        "id": "UeodQzaGrzD0"
      },
      "id": "UeodQzaGrzD0",
      "execution_count": 16,
      "outputs": []
    },
    {
      "cell_type": "markdown",
      "source": [
        "## 그리드 서치"
      ],
      "metadata": {
        "id": "Pogi8nhQ5QsP"
      },
      "id": "Pogi8nhQ5QsP"
    },
    {
      "cell_type": "code",
      "source": [
        "from sklearn.model_selection import ShuffleSplit\n",
        "from sklearn.model_selection import GridSearchCV\n",
        "\n",
        "xgbr=xgb.XGBRegressor()\n",
        "param_grid = {\n",
        "        'learning_rate':[0.001,0.01,0.1,0.2],\n",
        "        'max_depth':  [3, 4, 5, 6, 7]\n",
        "    }\n",
        "\n",
        "ss=ShuffleSplit(test_size=0.3,random_state=0)\n",
        "grid_xgb_cv=GridSearchCV(xgbr,return_train_score=True,\n",
        "                       param_grid=param_grid,\n",
        "                       cv=ss,\n",
        "                       verbose=0,\n",
        "                       scoring='neg_mean_absolute_error',\n",
        "                       n_jobs=-1)\n",
        "\n",
        "grid_xgb_cv.fit(X,y)\n",
        "\n",
        "print('최적의 매개변수 조합: ', grid_xgb_cv.best_params_)\n",
        "print('최고의 교차 검증 점수: ', grid_xgb_cv.best_score_)"
      ],
      "metadata": {
        "colab": {
          "base_uri": "https://localhost:8080/"
        },
        "id": "p_AK1FWUr8yy",
        "outputId": "960ad66e-daac-4be5-f265-2566528b9046"
      },
      "id": "p_AK1FWUr8yy",
      "execution_count": 17,
      "outputs": [
        {
          "output_type": "stream",
          "name": "stdout",
          "text": [
            "[04:11:04] WARNING: /workspace/src/objective/regression_obj.cu:152: reg:linear is now deprecated in favor of reg:squarederror.\n",
            "최적의 매개변수 조합:  {'learning_rate': 0.1, 'max_depth': 3}\n",
            "최고의 교차 검증 점수:  -30.6408947532533\n"
          ]
        }
      ]
    },
    {
      "cell_type": "markdown",
      "source": [
        "## 최적모델을 best_xgb 에 저장 후 NMAE 확인"
      ],
      "metadata": {
        "id": "nZ8qrs2m5Sxo"
      },
      "id": "nZ8qrs2m5Sxo"
    },
    {
      "cell_type": "code",
      "source": [
        "best_xgb=grid_xgb_cv.best_estimator_\n",
        "y_pred_xgb=best_xgb.predict(X)\n",
        "print(f'NMAE : {NMAE(y,y_pred_xgb)}')"
      ],
      "metadata": {
        "colab": {
          "base_uri": "https://localhost:8080/"
        },
        "id": "G87vqyVYszd5",
        "outputId": "2fb6b54d-3307-4296-ceb0-f21d18dc2832"
      },
      "id": "G87vqyVYszd5",
      "execution_count": 19,
      "outputs": [
        {
          "output_type": "stream",
          "name": "stdout",
          "text": [
            "NMAE : 0.06664120807503442\n"
          ]
        }
      ]
    },
    {
      "cell_type": "markdown",
      "source": [
        "## test data로 예측"
      ],
      "metadata": {
        "id": "yrDfd9at23Wu"
      },
      "id": "yrDfd9at23Wu"
    },
    {
      "cell_type": "code",
      "source": [
        "test_pred_xgb = best_xgb.predict(X_test)"
      ],
      "metadata": {
        "id": "BKU5ehLF2xJB"
      },
      "id": "BKU5ehLF2xJB",
      "execution_count": 24,
      "outputs": []
    },
    {
      "cell_type": "markdown",
      "source": [
        "# 5. 모델 앙상블"
      ],
      "metadata": {
        "id": "Qmw0Ezbw2ExB"
      },
      "id": "Qmw0Ezbw2ExB"
    },
    {
      "cell_type": "code",
      "source": [
        "final_pred = 0.5*test_pred_rf + 0.5*test_pred_xgb"
      ],
      "metadata": {
        "id": "TSoQFWpy2Jq0"
      },
      "id": "TSoQFWpy2Jq0",
      "execution_count": 25,
      "outputs": []
    },
    {
      "cell_type": "code",
      "source": [
        "final_pred"
      ],
      "metadata": {
        "colab": {
          "base_uri": "https://localhost:8080/"
        },
        "id": "3KkmmYCf2abE",
        "outputId": "8b06b1a5-b019-4160-f435-b3b0946da81a"
      },
      "id": "3KkmmYCf2abE",
      "execution_count": 26,
      "outputs": [
        {
          "output_type": "execute_result",
          "data": {
            "text/plain": [
              "array([247.88438232, 750.1590156 , 147.53183163, ..., 367.06430138,\n",
              "       233.88457964,  96.13522695])"
            ]
          },
          "metadata": {},
          "execution_count": 26
        }
      ]
    },
    {
      "cell_type": "markdown",
      "metadata": {
        "id": "c300bfd6-94e8-415b-a5ea-ca890407057d"
      },
      "source": [
        "#6. 추출"
      ],
      "id": "c300bfd6-94e8-415b-a5ea-ca890407057d"
    },
    {
      "cell_type": "code",
      "execution_count": 27,
      "metadata": {
        "id": "b154aaac-5c62-49c7-8b62-fb3b042bc42b",
        "colab": {
          "base_uri": "https://localhost:8080/",
          "height": 423
        },
        "outputId": "3ccf7458-f5c5-4beb-96ea-9e12894d30e7"
      },
      "outputs": [
        {
          "output_type": "execute_result",
          "data": {
            "text/plain": [
              "             ID    착과량(int)\n",
              "0     TEST_0000  247.884382\n",
              "1     TEST_0001  750.159016\n",
              "2     TEST_0002  147.531832\n",
              "3     TEST_0003  440.817608\n",
              "4     TEST_0004  691.450829\n",
              "...         ...         ...\n",
              "2203  TEST_2203  754.127800\n",
              "2204  TEST_2204  338.579131\n",
              "2205  TEST_2205  367.064301\n",
              "2206  TEST_2206  233.884580\n",
              "2207  TEST_2207   96.135227\n",
              "\n",
              "[2208 rows x 2 columns]"
            ],
            "text/html": [
              "\n",
              "  <div id=\"df-7cef62db-fed1-407f-91c0-b213e65e0235\">\n",
              "    <div class=\"colab-df-container\">\n",
              "      <div>\n",
              "<style scoped>\n",
              "    .dataframe tbody tr th:only-of-type {\n",
              "        vertical-align: middle;\n",
              "    }\n",
              "\n",
              "    .dataframe tbody tr th {\n",
              "        vertical-align: top;\n",
              "    }\n",
              "\n",
              "    .dataframe thead th {\n",
              "        text-align: right;\n",
              "    }\n",
              "</style>\n",
              "<table border=\"1\" class=\"dataframe\">\n",
              "  <thead>\n",
              "    <tr style=\"text-align: right;\">\n",
              "      <th></th>\n",
              "      <th>ID</th>\n",
              "      <th>착과량(int)</th>\n",
              "    </tr>\n",
              "  </thead>\n",
              "  <tbody>\n",
              "    <tr>\n",
              "      <th>0</th>\n",
              "      <td>TEST_0000</td>\n",
              "      <td>247.884382</td>\n",
              "    </tr>\n",
              "    <tr>\n",
              "      <th>1</th>\n",
              "      <td>TEST_0001</td>\n",
              "      <td>750.159016</td>\n",
              "    </tr>\n",
              "    <tr>\n",
              "      <th>2</th>\n",
              "      <td>TEST_0002</td>\n",
              "      <td>147.531832</td>\n",
              "    </tr>\n",
              "    <tr>\n",
              "      <th>3</th>\n",
              "      <td>TEST_0003</td>\n",
              "      <td>440.817608</td>\n",
              "    </tr>\n",
              "    <tr>\n",
              "      <th>4</th>\n",
              "      <td>TEST_0004</td>\n",
              "      <td>691.450829</td>\n",
              "    </tr>\n",
              "    <tr>\n",
              "      <th>...</th>\n",
              "      <td>...</td>\n",
              "      <td>...</td>\n",
              "    </tr>\n",
              "    <tr>\n",
              "      <th>2203</th>\n",
              "      <td>TEST_2203</td>\n",
              "      <td>754.127800</td>\n",
              "    </tr>\n",
              "    <tr>\n",
              "      <th>2204</th>\n",
              "      <td>TEST_2204</td>\n",
              "      <td>338.579131</td>\n",
              "    </tr>\n",
              "    <tr>\n",
              "      <th>2205</th>\n",
              "      <td>TEST_2205</td>\n",
              "      <td>367.064301</td>\n",
              "    </tr>\n",
              "    <tr>\n",
              "      <th>2206</th>\n",
              "      <td>TEST_2206</td>\n",
              "      <td>233.884580</td>\n",
              "    </tr>\n",
              "    <tr>\n",
              "      <th>2207</th>\n",
              "      <td>TEST_2207</td>\n",
              "      <td>96.135227</td>\n",
              "    </tr>\n",
              "  </tbody>\n",
              "</table>\n",
              "<p>2208 rows × 2 columns</p>\n",
              "</div>\n",
              "      <button class=\"colab-df-convert\" onclick=\"convertToInteractive('df-7cef62db-fed1-407f-91c0-b213e65e0235')\"\n",
              "              title=\"Convert this dataframe to an interactive table.\"\n",
              "              style=\"display:none;\">\n",
              "        \n",
              "  <svg xmlns=\"http://www.w3.org/2000/svg\" height=\"24px\"viewBox=\"0 0 24 24\"\n",
              "       width=\"24px\">\n",
              "    <path d=\"M0 0h24v24H0V0z\" fill=\"none\"/>\n",
              "    <path d=\"M18.56 5.44l.94 2.06.94-2.06 2.06-.94-2.06-.94-.94-2.06-.94 2.06-2.06.94zm-11 1L8.5 8.5l.94-2.06 2.06-.94-2.06-.94L8.5 2.5l-.94 2.06-2.06.94zm10 10l.94 2.06.94-2.06 2.06-.94-2.06-.94-.94-2.06-.94 2.06-2.06.94z\"/><path d=\"M17.41 7.96l-1.37-1.37c-.4-.4-.92-.59-1.43-.59-.52 0-1.04.2-1.43.59L10.3 9.45l-7.72 7.72c-.78.78-.78 2.05 0 2.83L4 21.41c.39.39.9.59 1.41.59.51 0 1.02-.2 1.41-.59l7.78-7.78 2.81-2.81c.8-.78.8-2.07 0-2.86zM5.41 20L4 18.59l7.72-7.72 1.47 1.35L5.41 20z\"/>\n",
              "  </svg>\n",
              "      </button>\n",
              "      \n",
              "  <style>\n",
              "    .colab-df-container {\n",
              "      display:flex;\n",
              "      flex-wrap:wrap;\n",
              "      gap: 12px;\n",
              "    }\n",
              "\n",
              "    .colab-df-convert {\n",
              "      background-color: #E8F0FE;\n",
              "      border: none;\n",
              "      border-radius: 50%;\n",
              "      cursor: pointer;\n",
              "      display: none;\n",
              "      fill: #1967D2;\n",
              "      height: 32px;\n",
              "      padding: 0 0 0 0;\n",
              "      width: 32px;\n",
              "    }\n",
              "\n",
              "    .colab-df-convert:hover {\n",
              "      background-color: #E2EBFA;\n",
              "      box-shadow: 0px 1px 2px rgba(60, 64, 67, 0.3), 0px 1px 3px 1px rgba(60, 64, 67, 0.15);\n",
              "      fill: #174EA6;\n",
              "    }\n",
              "\n",
              "    [theme=dark] .colab-df-convert {\n",
              "      background-color: #3B4455;\n",
              "      fill: #D2E3FC;\n",
              "    }\n",
              "\n",
              "    [theme=dark] .colab-df-convert:hover {\n",
              "      background-color: #434B5C;\n",
              "      box-shadow: 0px 1px 3px 1px rgba(0, 0, 0, 0.15);\n",
              "      filter: drop-shadow(0px 1px 2px rgba(0, 0, 0, 0.3));\n",
              "      fill: #FFFFFF;\n",
              "    }\n",
              "  </style>\n",
              "\n",
              "      <script>\n",
              "        const buttonEl =\n",
              "          document.querySelector('#df-7cef62db-fed1-407f-91c0-b213e65e0235 button.colab-df-convert');\n",
              "        buttonEl.style.display =\n",
              "          google.colab.kernel.accessAllowed ? 'block' : 'none';\n",
              "\n",
              "        async function convertToInteractive(key) {\n",
              "          const element = document.querySelector('#df-7cef62db-fed1-407f-91c0-b213e65e0235');\n",
              "          const dataTable =\n",
              "            await google.colab.kernel.invokeFunction('convertToInteractive',\n",
              "                                                     [key], {});\n",
              "          if (!dataTable) return;\n",
              "\n",
              "          const docLinkHtml = 'Like what you see? Visit the ' +\n",
              "            '<a target=\"_blank\" href=https://colab.research.google.com/notebooks/data_table.ipynb>data table notebook</a>'\n",
              "            + ' to learn more about interactive tables.';\n",
              "          element.innerHTML = '';\n",
              "          dataTable['output_type'] = 'display_data';\n",
              "          await google.colab.output.renderOutput(dataTable, element);\n",
              "          const docLink = document.createElement('div');\n",
              "          docLink.innerHTML = docLinkHtml;\n",
              "          element.appendChild(docLink);\n",
              "        }\n",
              "      </script>\n",
              "    </div>\n",
              "  </div>\n",
              "  "
            ]
          },
          "metadata": {},
          "execution_count": 27
        }
      ],
      "source": [
        "sample_submission = pd.read_csv('sample_submission.csv')\n",
        "sample_submission['착과량(int)'] = final_pred\n",
        "sample_submission.to_csv('submit_final.csv', index=False)\n",
        "sample_submission"
      ],
      "id": "b154aaac-5c62-49c7-8b62-fb3b042bc42b"
    },
    {
      "cell_type": "markdown",
      "source": [
        "# 7. [추가] 교차검증 및 변수 중요도 확인"
      ],
      "metadata": {
        "id": "x6aZ7ubAN7iZ"
      },
      "id": "x6aZ7ubAN7iZ"
    },
    {
      "cell_type": "markdown",
      "source": [
        "## 랜덤포레스트 교차검증"
      ],
      "metadata": {
        "id": "hBLpXwax3nOl"
      },
      "id": "hBLpXwax3nOl"
    },
    {
      "cell_type": "code",
      "source": [
        "from sklearn.model_selection import cross_validate\n",
        "cv_scores = cross_validate(rf,  X, y,                     #모델과 훈련 세트\n",
        "                           cv = 5,                                  #5-fold\n",
        "                           return_train_score = True,               #훈련 세트 점수도 반환\n",
        "                           n_jobs = -1)\n",
        "\n",
        "cv_scores_2 = cross_validate(best_rf, X, y,                    #모델과 훈련 세트\n",
        "                             cv = 5,                                  #5-fold\n",
        "                             return_train_score = True,               #훈련 세트 점수도 반환\n",
        "                             n_jobs = -1)\n",
        "\n",
        "print('첫 번째 교차 검증 결과')\n",
        "print('훈련 세트 점수: {0:.3f}'.format(np.mean(cv_scores['train_score'])))\n",
        "print('검증 세트 점수: {0:.3f}'.format(np.mean(cv_scores['test_score'])))\n",
        "print('\\n')\n",
        "print('두 번째 교차 검증 결과')\n",
        "print('훈련 세트 점수: {0:.3f}'.format(np.mean(cv_scores_2['train_score'])))\n",
        "print('검증 세트 점수: {0:.3f}'.format(np.mean(cv_scores_2['test_score'])))"
      ],
      "metadata": {
        "colab": {
          "base_uri": "https://localhost:8080/"
        },
        "id": "5m11zzsNN8kl",
        "outputId": "02a0e712-8fd3-4aad-fa31-dc16d393fb0f"
      },
      "id": "5m11zzsNN8kl",
      "execution_count": 28,
      "outputs": [
        {
          "output_type": "stream",
          "name": "stdout",
          "text": [
            "첫 번째 교차 검증 결과\n",
            "훈련 세트 점수: 0.995\n",
            "검증 세트 점수: 0.967\n",
            "\n",
            "\n",
            "두 번째 교차 검증 결과\n",
            "훈련 세트 점수: 0.979\n",
            "검증 세트 점수: 0.970\n"
          ]
        }
      ]
    },
    {
      "cell_type": "markdown",
      "source": [
        "## Xgboost 교차검증"
      ],
      "metadata": {
        "id": "BNABDCxM3rgg"
      },
      "id": "BNABDCxM3rgg"
    },
    {
      "cell_type": "code",
      "source": [
        "from sklearn.model_selection import cross_validate\n",
        "cv_scores = cross_validate(xgbr,  X, y,                     #모델과 훈련 세트\n",
        "                           cv = 5,                                  #5-fold\n",
        "                           return_train_score = True,               #훈련 세트 점수도 반환\n",
        "                           n_jobs = -1)\n",
        "\n",
        "cv_scores_2 = cross_validate(best_xgb, X, y,                    #모델과 훈련 세트\n",
        "                             cv = 5,                                  #5-fold\n",
        "                             return_train_score = True,               #훈련 세트 점수도 반환\n",
        "                             n_jobs = -1)\n",
        "\n",
        "print('첫 번째 교차 검증 결과')\n",
        "print('훈련 세트 점수: {0:.3f}'.format(np.mean(cv_scores['train_score'])))\n",
        "print('검증 세트 점수: {0:.3f}'.format(np.mean(cv_scores['test_score'])))\n",
        "print('\\n')\n",
        "print('두 번째 교차 검증 결과')\n",
        "print('훈련 세트 점수: {0:.3f}'.format(np.mean(cv_scores_2['train_score'])))\n",
        "print('검증 세트 점수: {0:.3f}'.format(np.mean(cv_scores_2['test_score'])))"
      ],
      "metadata": {
        "colab": {
          "base_uri": "https://localhost:8080/"
        },
        "id": "hDH37A4X3Q02",
        "outputId": "9ed10c1f-c54f-4303-a5b9-629e42fdc09d"
      },
      "id": "hDH37A4X3Q02",
      "execution_count": 29,
      "outputs": [
        {
          "output_type": "stream",
          "name": "stdout",
          "text": [
            "첫 번째 교차 검증 결과\n",
            "훈련 세트 점수: 0.978\n",
            "검증 세트 점수: 0.970\n",
            "\n",
            "\n",
            "두 번째 교차 검증 결과\n",
            "훈련 세트 점수: 0.978\n",
            "검증 세트 점수: 0.970\n"
          ]
        }
      ]
    },
    {
      "cell_type": "markdown",
      "metadata": {
        "id": "-4hSdYIZVjDd"
      },
      "source": [
        "## 랜덤포레스트 특성 중요도"
      ],
      "id": "-4hSdYIZVjDd"
    },
    {
      "cell_type": "code",
      "execution_count": 30,
      "metadata": {
        "id": "iYLScpbyVj_U",
        "colab": {
          "base_uri": "https://localhost:8080/",
          "height": 488
        },
        "outputId": "4d7a8587-c857-441f-dec4-52bfc9e49d5d"
      },
      "outputs": [
        {
          "output_type": "execute_result",
          "data": {
            "text/plain": [
              "              특성       중요도\n",
              "1    period_2 새순  0.206323\n",
              "2    period_3 새순  0.203110\n",
              "0    period_1 새순  0.155636\n",
              "11         새순max  0.147918\n",
              "3    period_4 새순  0.094341\n",
              "4    period_5 새순  0.062433\n",
              "10        새순diff  0.045945\n",
              "6    period_7 새순  0.034997\n",
              "5    period_6 새순  0.031448\n",
              "7    period_8 새순  0.009795\n",
              "12         새순min  0.006348\n",
              "9   period_10 새순  0.000857\n",
              "8    period_9 새순  0.000478\n",
              "13          나무부피  0.000371"
            ],
            "text/html": [
              "\n",
              "  <div id=\"df-7d9298b4-e316-427c-bc8d-74411a9e8c44\">\n",
              "    <div class=\"colab-df-container\">\n",
              "      <div>\n",
              "<style scoped>\n",
              "    .dataframe tbody tr th:only-of-type {\n",
              "        vertical-align: middle;\n",
              "    }\n",
              "\n",
              "    .dataframe tbody tr th {\n",
              "        vertical-align: top;\n",
              "    }\n",
              "\n",
              "    .dataframe thead th {\n",
              "        text-align: right;\n",
              "    }\n",
              "</style>\n",
              "<table border=\"1\" class=\"dataframe\">\n",
              "  <thead>\n",
              "    <tr style=\"text-align: right;\">\n",
              "      <th></th>\n",
              "      <th>특성</th>\n",
              "      <th>중요도</th>\n",
              "    </tr>\n",
              "  </thead>\n",
              "  <tbody>\n",
              "    <tr>\n",
              "      <th>1</th>\n",
              "      <td>period_2 새순</td>\n",
              "      <td>0.206323</td>\n",
              "    </tr>\n",
              "    <tr>\n",
              "      <th>2</th>\n",
              "      <td>period_3 새순</td>\n",
              "      <td>0.203110</td>\n",
              "    </tr>\n",
              "    <tr>\n",
              "      <th>0</th>\n",
              "      <td>period_1 새순</td>\n",
              "      <td>0.155636</td>\n",
              "    </tr>\n",
              "    <tr>\n",
              "      <th>11</th>\n",
              "      <td>새순max</td>\n",
              "      <td>0.147918</td>\n",
              "    </tr>\n",
              "    <tr>\n",
              "      <th>3</th>\n",
              "      <td>period_4 새순</td>\n",
              "      <td>0.094341</td>\n",
              "    </tr>\n",
              "    <tr>\n",
              "      <th>4</th>\n",
              "      <td>period_5 새순</td>\n",
              "      <td>0.062433</td>\n",
              "    </tr>\n",
              "    <tr>\n",
              "      <th>10</th>\n",
              "      <td>새순diff</td>\n",
              "      <td>0.045945</td>\n",
              "    </tr>\n",
              "    <tr>\n",
              "      <th>6</th>\n",
              "      <td>period_7 새순</td>\n",
              "      <td>0.034997</td>\n",
              "    </tr>\n",
              "    <tr>\n",
              "      <th>5</th>\n",
              "      <td>period_6 새순</td>\n",
              "      <td>0.031448</td>\n",
              "    </tr>\n",
              "    <tr>\n",
              "      <th>7</th>\n",
              "      <td>period_8 새순</td>\n",
              "      <td>0.009795</td>\n",
              "    </tr>\n",
              "    <tr>\n",
              "      <th>12</th>\n",
              "      <td>새순min</td>\n",
              "      <td>0.006348</td>\n",
              "    </tr>\n",
              "    <tr>\n",
              "      <th>9</th>\n",
              "      <td>period_10 새순</td>\n",
              "      <td>0.000857</td>\n",
              "    </tr>\n",
              "    <tr>\n",
              "      <th>8</th>\n",
              "      <td>period_9 새순</td>\n",
              "      <td>0.000478</td>\n",
              "    </tr>\n",
              "    <tr>\n",
              "      <th>13</th>\n",
              "      <td>나무부피</td>\n",
              "      <td>0.000371</td>\n",
              "    </tr>\n",
              "  </tbody>\n",
              "</table>\n",
              "</div>\n",
              "      <button class=\"colab-df-convert\" onclick=\"convertToInteractive('df-7d9298b4-e316-427c-bc8d-74411a9e8c44')\"\n",
              "              title=\"Convert this dataframe to an interactive table.\"\n",
              "              style=\"display:none;\">\n",
              "        \n",
              "  <svg xmlns=\"http://www.w3.org/2000/svg\" height=\"24px\"viewBox=\"0 0 24 24\"\n",
              "       width=\"24px\">\n",
              "    <path d=\"M0 0h24v24H0V0z\" fill=\"none\"/>\n",
              "    <path d=\"M18.56 5.44l.94 2.06.94-2.06 2.06-.94-2.06-.94-.94-2.06-.94 2.06-2.06.94zm-11 1L8.5 8.5l.94-2.06 2.06-.94-2.06-.94L8.5 2.5l-.94 2.06-2.06.94zm10 10l.94 2.06.94-2.06 2.06-.94-2.06-.94-.94-2.06-.94 2.06-2.06.94z\"/><path d=\"M17.41 7.96l-1.37-1.37c-.4-.4-.92-.59-1.43-.59-.52 0-1.04.2-1.43.59L10.3 9.45l-7.72 7.72c-.78.78-.78 2.05 0 2.83L4 21.41c.39.39.9.59 1.41.59.51 0 1.02-.2 1.41-.59l7.78-7.78 2.81-2.81c.8-.78.8-2.07 0-2.86zM5.41 20L4 18.59l7.72-7.72 1.47 1.35L5.41 20z\"/>\n",
              "  </svg>\n",
              "      </button>\n",
              "      \n",
              "  <style>\n",
              "    .colab-df-container {\n",
              "      display:flex;\n",
              "      flex-wrap:wrap;\n",
              "      gap: 12px;\n",
              "    }\n",
              "\n",
              "    .colab-df-convert {\n",
              "      background-color: #E8F0FE;\n",
              "      border: none;\n",
              "      border-radius: 50%;\n",
              "      cursor: pointer;\n",
              "      display: none;\n",
              "      fill: #1967D2;\n",
              "      height: 32px;\n",
              "      padding: 0 0 0 0;\n",
              "      width: 32px;\n",
              "    }\n",
              "\n",
              "    .colab-df-convert:hover {\n",
              "      background-color: #E2EBFA;\n",
              "      box-shadow: 0px 1px 2px rgba(60, 64, 67, 0.3), 0px 1px 3px 1px rgba(60, 64, 67, 0.15);\n",
              "      fill: #174EA6;\n",
              "    }\n",
              "\n",
              "    [theme=dark] .colab-df-convert {\n",
              "      background-color: #3B4455;\n",
              "      fill: #D2E3FC;\n",
              "    }\n",
              "\n",
              "    [theme=dark] .colab-df-convert:hover {\n",
              "      background-color: #434B5C;\n",
              "      box-shadow: 0px 1px 3px 1px rgba(0, 0, 0, 0.15);\n",
              "      filter: drop-shadow(0px 1px 2px rgba(0, 0, 0, 0.3));\n",
              "      fill: #FFFFFF;\n",
              "    }\n",
              "  </style>\n",
              "\n",
              "      <script>\n",
              "        const buttonEl =\n",
              "          document.querySelector('#df-7d9298b4-e316-427c-bc8d-74411a9e8c44 button.colab-df-convert');\n",
              "        buttonEl.style.display =\n",
              "          google.colab.kernel.accessAllowed ? 'block' : 'none';\n",
              "\n",
              "        async function convertToInteractive(key) {\n",
              "          const element = document.querySelector('#df-7d9298b4-e316-427c-bc8d-74411a9e8c44');\n",
              "          const dataTable =\n",
              "            await google.colab.kernel.invokeFunction('convertToInteractive',\n",
              "                                                     [key], {});\n",
              "          if (!dataTable) return;\n",
              "\n",
              "          const docLinkHtml = 'Like what you see? Visit the ' +\n",
              "            '<a target=\"_blank\" href=https://colab.research.google.com/notebooks/data_table.ipynb>data table notebook</a>'\n",
              "            + ' to learn more about interactive tables.';\n",
              "          element.innerHTML = '';\n",
              "          dataTable['output_type'] = 'display_data';\n",
              "          await google.colab.output.renderOutput(dataTable, element);\n",
              "          const docLink = document.createElement('div');\n",
              "          docLink.innerHTML = docLinkHtml;\n",
              "          element.appendChild(docLink);\n",
              "        }\n",
              "      </script>\n",
              "    </div>\n",
              "  </div>\n",
              "  "
            ]
          },
          "metadata": {},
          "execution_count": 30
        }
      ],
      "source": [
        "#특성 중요도\n",
        "importances = best_rf.feature_importances_\n",
        "\n",
        "#특성 이름\n",
        "features = X.columns\n",
        "\n",
        "#데이터 프레임 생성\n",
        "new = pd.DataFrame({'특성' : np.array(features), '중요도' : importances})\n",
        "\n",
        "#가장 중요한 특성 5개\n",
        "new.sort_values(by='중요도', ascending=False)"
      ],
      "id": "iYLScpbyVj_U"
    },
    {
      "cell_type": "markdown",
      "source": [
        "## XGboost 특성 중요도"
      ],
      "metadata": {
        "id": "V99JW-sX5D0B"
      },
      "id": "V99JW-sX5D0B"
    },
    {
      "cell_type": "code",
      "source": [
        "#특성 중요도\n",
        "importances = best_xgb.feature_importances_\n",
        "\n",
        "#특성 이름\n",
        "features = X.columns\n",
        "\n",
        "#데이터 프레임 생성\n",
        "new = pd.DataFrame({'특성' : np.array(features), '중요도' : importances})\n",
        "\n",
        "#가장 중요한 특성 5개\n",
        "new.sort_values(by='중요도', ascending=False)"
      ],
      "metadata": {
        "id": "BebBR-EsS8fP",
        "colab": {
          "base_uri": "https://localhost:8080/",
          "height": 488
        },
        "outputId": "589114be-9326-4714-9c31-392a03d72dbb"
      },
      "id": "BebBR-EsS8fP",
      "execution_count": 31,
      "outputs": [
        {
          "output_type": "execute_result",
          "data": {
            "text/plain": [
              "              특성       중요도\n",
              "0    period_1 새순  0.558243\n",
              "1    period_2 새순  0.244044\n",
              "11         새순max  0.082362\n",
              "2    period_3 새순  0.047165\n",
              "10        새순diff  0.043126\n",
              "3    period_4 새순  0.010819\n",
              "12         새순min  0.007358\n",
              "4    period_5 새순  0.002545\n",
              "6    period_7 새순  0.000885\n",
              "9   period_10 새순  0.000765\n",
              "8    period_9 새순  0.000737\n",
              "13          나무부피  0.000658\n",
              "5    period_6 새순  0.000652\n",
              "7    period_8 새순  0.000642"
            ],
            "text/html": [
              "\n",
              "  <div id=\"df-7ceafbad-78dd-4f81-8d41-3e49a5810585\">\n",
              "    <div class=\"colab-df-container\">\n",
              "      <div>\n",
              "<style scoped>\n",
              "    .dataframe tbody tr th:only-of-type {\n",
              "        vertical-align: middle;\n",
              "    }\n",
              "\n",
              "    .dataframe tbody tr th {\n",
              "        vertical-align: top;\n",
              "    }\n",
              "\n",
              "    .dataframe thead th {\n",
              "        text-align: right;\n",
              "    }\n",
              "</style>\n",
              "<table border=\"1\" class=\"dataframe\">\n",
              "  <thead>\n",
              "    <tr style=\"text-align: right;\">\n",
              "      <th></th>\n",
              "      <th>특성</th>\n",
              "      <th>중요도</th>\n",
              "    </tr>\n",
              "  </thead>\n",
              "  <tbody>\n",
              "    <tr>\n",
              "      <th>0</th>\n",
              "      <td>period_1 새순</td>\n",
              "      <td>0.558243</td>\n",
              "    </tr>\n",
              "    <tr>\n",
              "      <th>1</th>\n",
              "      <td>period_2 새순</td>\n",
              "      <td>0.244044</td>\n",
              "    </tr>\n",
              "    <tr>\n",
              "      <th>11</th>\n",
              "      <td>새순max</td>\n",
              "      <td>0.082362</td>\n",
              "    </tr>\n",
              "    <tr>\n",
              "      <th>2</th>\n",
              "      <td>period_3 새순</td>\n",
              "      <td>0.047165</td>\n",
              "    </tr>\n",
              "    <tr>\n",
              "      <th>10</th>\n",
              "      <td>새순diff</td>\n",
              "      <td>0.043126</td>\n",
              "    </tr>\n",
              "    <tr>\n",
              "      <th>3</th>\n",
              "      <td>period_4 새순</td>\n",
              "      <td>0.010819</td>\n",
              "    </tr>\n",
              "    <tr>\n",
              "      <th>12</th>\n",
              "      <td>새순min</td>\n",
              "      <td>0.007358</td>\n",
              "    </tr>\n",
              "    <tr>\n",
              "      <th>4</th>\n",
              "      <td>period_5 새순</td>\n",
              "      <td>0.002545</td>\n",
              "    </tr>\n",
              "    <tr>\n",
              "      <th>6</th>\n",
              "      <td>period_7 새순</td>\n",
              "      <td>0.000885</td>\n",
              "    </tr>\n",
              "    <tr>\n",
              "      <th>9</th>\n",
              "      <td>period_10 새순</td>\n",
              "      <td>0.000765</td>\n",
              "    </tr>\n",
              "    <tr>\n",
              "      <th>8</th>\n",
              "      <td>period_9 새순</td>\n",
              "      <td>0.000737</td>\n",
              "    </tr>\n",
              "    <tr>\n",
              "      <th>13</th>\n",
              "      <td>나무부피</td>\n",
              "      <td>0.000658</td>\n",
              "    </tr>\n",
              "    <tr>\n",
              "      <th>5</th>\n",
              "      <td>period_6 새순</td>\n",
              "      <td>0.000652</td>\n",
              "    </tr>\n",
              "    <tr>\n",
              "      <th>7</th>\n",
              "      <td>period_8 새순</td>\n",
              "      <td>0.000642</td>\n",
              "    </tr>\n",
              "  </tbody>\n",
              "</table>\n",
              "</div>\n",
              "      <button class=\"colab-df-convert\" onclick=\"convertToInteractive('df-7ceafbad-78dd-4f81-8d41-3e49a5810585')\"\n",
              "              title=\"Convert this dataframe to an interactive table.\"\n",
              "              style=\"display:none;\">\n",
              "        \n",
              "  <svg xmlns=\"http://www.w3.org/2000/svg\" height=\"24px\"viewBox=\"0 0 24 24\"\n",
              "       width=\"24px\">\n",
              "    <path d=\"M0 0h24v24H0V0z\" fill=\"none\"/>\n",
              "    <path d=\"M18.56 5.44l.94 2.06.94-2.06 2.06-.94-2.06-.94-.94-2.06-.94 2.06-2.06.94zm-11 1L8.5 8.5l.94-2.06 2.06-.94-2.06-.94L8.5 2.5l-.94 2.06-2.06.94zm10 10l.94 2.06.94-2.06 2.06-.94-2.06-.94-.94-2.06-.94 2.06-2.06.94z\"/><path d=\"M17.41 7.96l-1.37-1.37c-.4-.4-.92-.59-1.43-.59-.52 0-1.04.2-1.43.59L10.3 9.45l-7.72 7.72c-.78.78-.78 2.05 0 2.83L4 21.41c.39.39.9.59 1.41.59.51 0 1.02-.2 1.41-.59l7.78-7.78 2.81-2.81c.8-.78.8-2.07 0-2.86zM5.41 20L4 18.59l7.72-7.72 1.47 1.35L5.41 20z\"/>\n",
              "  </svg>\n",
              "      </button>\n",
              "      \n",
              "  <style>\n",
              "    .colab-df-container {\n",
              "      display:flex;\n",
              "      flex-wrap:wrap;\n",
              "      gap: 12px;\n",
              "    }\n",
              "\n",
              "    .colab-df-convert {\n",
              "      background-color: #E8F0FE;\n",
              "      border: none;\n",
              "      border-radius: 50%;\n",
              "      cursor: pointer;\n",
              "      display: none;\n",
              "      fill: #1967D2;\n",
              "      height: 32px;\n",
              "      padding: 0 0 0 0;\n",
              "      width: 32px;\n",
              "    }\n",
              "\n",
              "    .colab-df-convert:hover {\n",
              "      background-color: #E2EBFA;\n",
              "      box-shadow: 0px 1px 2px rgba(60, 64, 67, 0.3), 0px 1px 3px 1px rgba(60, 64, 67, 0.15);\n",
              "      fill: #174EA6;\n",
              "    }\n",
              "\n",
              "    [theme=dark] .colab-df-convert {\n",
              "      background-color: #3B4455;\n",
              "      fill: #D2E3FC;\n",
              "    }\n",
              "\n",
              "    [theme=dark] .colab-df-convert:hover {\n",
              "      background-color: #434B5C;\n",
              "      box-shadow: 0px 1px 3px 1px rgba(0, 0, 0, 0.15);\n",
              "      filter: drop-shadow(0px 1px 2px rgba(0, 0, 0, 0.3));\n",
              "      fill: #FFFFFF;\n",
              "    }\n",
              "  </style>\n",
              "\n",
              "      <script>\n",
              "        const buttonEl =\n",
              "          document.querySelector('#df-7ceafbad-78dd-4f81-8d41-3e49a5810585 button.colab-df-convert');\n",
              "        buttonEl.style.display =\n",
              "          google.colab.kernel.accessAllowed ? 'block' : 'none';\n",
              "\n",
              "        async function convertToInteractive(key) {\n",
              "          const element = document.querySelector('#df-7ceafbad-78dd-4f81-8d41-3e49a5810585');\n",
              "          const dataTable =\n",
              "            await google.colab.kernel.invokeFunction('convertToInteractive',\n",
              "                                                     [key], {});\n",
              "          if (!dataTable) return;\n",
              "\n",
              "          const docLinkHtml = 'Like what you see? Visit the ' +\n",
              "            '<a target=\"_blank\" href=https://colab.research.google.com/notebooks/data_table.ipynb>data table notebook</a>'\n",
              "            + ' to learn more about interactive tables.';\n",
              "          element.innerHTML = '';\n",
              "          dataTable['output_type'] = 'display_data';\n",
              "          await google.colab.output.renderOutput(dataTable, element);\n",
              "          const docLink = document.createElement('div');\n",
              "          docLink.innerHTML = docLinkHtml;\n",
              "          element.appendChild(docLink);\n",
              "        }\n",
              "      </script>\n",
              "    </div>\n",
              "  </div>\n",
              "  "
            ]
          },
          "metadata": {},
          "execution_count": 31
        }
      ]
    },
    {
      "cell_type": "code",
      "source": [],
      "metadata": {
        "id": "u-4iMqL84LMg"
      },
      "id": "u-4iMqL84LMg",
      "execution_count": null,
      "outputs": []
    }
  ],
  "metadata": {
    "colab": {
      "provenance": []
    },
    "kernelspec": {
      "display_name": "evaluation",
      "language": "python",
      "name": "evaluation"
    },
    "language_info": {
      "codemirror_mode": {
        "name": "ipython",
        "version": 3
      },
      "file_extension": ".py",
      "mimetype": "text/x-python",
      "name": "python",
      "nbconvert_exporter": "python",
      "pygments_lexer": "ipython3",
      "version": "3.7.9"
    }
  },
  "nbformat": 4,
  "nbformat_minor": 5
}